{
 "cells": [
  {
   "cell_type": "code",
   "execution_count": 7,
   "metadata": {},
   "outputs": [],
   "source": [
    "import os\n",
    "import glob\n",
    "from sklearn import preprocessing\n",
    "import sklearn as skl\n",
    "from collections import defaultdict\n",
    "import pandas as pd\n",
    "import numpy as np\n",
    "import matplotlib.pyplot as plt\n",
    "import pickle\n",
    "%matplotlib inline\n",
    "\n",
    "import warnings\n",
    "warnings.filterwarnings('ignore')"
   ]
  },
  {
   "cell_type": "code",
   "execution_count": 8,
   "metadata": {},
   "outputs": [],
   "source": [
    "# Read processed data\n",
    "df = pd.read_pickle('processed_data_df.pkl')"
   ]
  },
  {
   "cell_type": "code",
   "execution_count": 10,
   "metadata": {},
   "outputs": [],
   "source": [
    "# Split the data into training and test\n",
    "\n",
    "from sklearn.model_selection import train_test_split\n",
    "train_df, test_df = train_test_split(df, test_size = .50, random_state=0)"
   ]
  },
  {
   "cell_type": "code",
   "execution_count": 11,
   "metadata": {},
   "outputs": [
    {
     "name": "stdout",
     "output_type": "stream",
     "text": [
      "Train Size = 1564912 | Test Size = 1564912 | Test is 0.5% of Train\n"
     ]
    }
   ],
   "source": [
    "print(f\"Train Size = {len(train_df)} | Test Size = {len(test_df)} | Test is {len(test_df)/len(df)}% of Train\")"
   ]
  },
  {
   "cell_type": "code",
   "execution_count": 20,
   "metadata": {},
   "outputs": [
    {
     "name": "stdout",
     "output_type": "stream",
     "text": [
      "Training data benign vs malicious:\n",
      "0    1204759\n",
      "1     360153\n",
      "Name: Label, dtype: int64\n",
      "Test data benign vs malicious:\n",
      "0    1205433\n",
      "1     359479\n",
      "Name: Label, dtype: int64\n"
     ]
    }
   ],
   "source": [
    "# The following shows the number of Benign (0) vs Malicous (1) entries\n",
    "# This allows us to check if the data is uniformaly distributed\n",
    "print('Training data benign vs malicious:')\n",
    "print(train_df['Label'].value_counts())\n",
    "\n",
    "print('Test data benign vs malicious:')\n",
    "print(test_df['Label'].value_counts())"
   ]
  },
  {
   "cell_type": "code",
   "execution_count": null,
   "metadata": {},
   "outputs": [],
   "source": []
  }
 ],
 "metadata": {
  "kernelspec": {
   "display_name": "Python 3",
   "language": "python",
   "name": "python3"
  },
  "language_info": {
   "codemirror_mode": {
    "name": "ipython",
    "version": 3
   },
   "file_extension": ".py",
   "mimetype": "text/x-python",
   "name": "python",
   "nbconvert_exporter": "python",
   "pygments_lexer": "ipython3",
   "version": "3.7.6"
  }
 },
 "nbformat": 4,
 "nbformat_minor": 4
}
