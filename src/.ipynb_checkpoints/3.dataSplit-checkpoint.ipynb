{
 "cells": [
  {
   "cell_type": "code",
   "execution_count": 1,
   "metadata": {},
   "outputs": [],
   "source": [
    "import os\n",
    "import glob\n",
    "from sklearn import preprocessing\n",
    "import sklearn as skl\n",
    "from collections import defaultdict\n",
    "import pandas as pd\n",
    "import numpy as np\n",
    "import matplotlib.pyplot as plt\n",
    "import pickle\n",
    "from sklearn.model_selection import train_test_split\n",
    "%matplotlib inline\n",
    "\n",
    "import warnings\n",
    "warnings.filterwarnings('ignore')"
   ]
  },
  {
   "cell_type": "code",
   "execution_count": null,
   "metadata": {},
   "outputs": [],
   "source": [
    "# Read processed data\n",
    "df = pd.read_pickle(r'D:\\CIC\\Combined\\Filter Corr Attr\\cic_ids_2018_data.pkl')"
   ]
  },
  {
   "cell_type": "code",
   "execution_count": null,
   "metadata": {},
   "outputs": [],
   "source": [
    "# Here, you need to divide given columns into two types of variables dependent (or target variable) and independent variable (or feature variables)\n",
    "\n",
    "# Drop the target value from independent variables\n",
    "X = df.drop([\"Label\"], axis=1)\n",
    "\n",
    "# Get just the target values\n",
    "y = df[\"Label\"]\n",
    "\n",
    "print(f\"X: {X.shape}\")\n",
    "print(f\"y: {y.shape}\")\n",
    "print(f\"Orginal: {df.shape}\")"
   ]
  },
  {
   "cell_type": "code",
   "execution_count": null,
   "metadata": {},
   "outputs": [],
   "source": [
    "# 70% training and 30% test\n",
    "X_train, X_test, y_train, y_test = train_test_split(X, y, test_size=0.3, random_state=1)"
   ]
  },
  {
   "cell_type": "code",
   "execution_count": null,
   "metadata": {},
   "outputs": [],
   "source": [
    "print(f\"Train Size X = {len(X_train)} | Test Size X = {len(X_test)} | Test is {len(X_test)/len(df)}% of Train\")\n",
    "\n",
    "print(f\"Train Size y = {len(y_train)} | Test Size y = {len(y_test)} | Test is {len(y_test)/len(df)}% of Train\")"
   ]
  },
  {
   "cell_type": "code",
   "execution_count": null,
   "metadata": {},
   "outputs": [],
   "source": [
    "# The following shows the number of Benign (0) vs Malicous (1) entries\n",
    "# This allows us to check if the data is uniformaly distributed\n",
    "print('Training data benign vs malicious:')\n",
    "print(y_train.value_counts())\n",
    "\n",
    "train_attack_types = y_train.value_counts()\n",
    "train_attack_types.plot(kind='barh', figsize=(20,10), fontsize=20)"
   ]
  },
  {
   "cell_type": "code",
   "execution_count": null,
   "metadata": {},
   "outputs": [],
   "source": [
    "# The following shows the number of Benign (0) vs Malicous (1) entries\n",
    "# This allows us to check if the data is uniformaly distributed\n",
    "print('Test data benign vs malicious:')\n",
    "print(y_test.value_counts())\n",
    "\n",
    "train_attack_types = y_test.value_counts()\n",
    "train_attack_types.plot(kind='barh', figsize=(20,10), fontsize=20)"
   ]
  },
  {
   "cell_type": "code",
   "execution_count": null,
   "metadata": {},
   "outputs": [],
   "source": [
    "X_train.info()"
   ]
  },
  {
   "cell_type": "code",
   "execution_count": null,
   "metadata": {},
   "outputs": [],
   "source": [
    "# Create test and train files containing raw data\n",
    "output_dir = r'D:\\CIC\\Train and Test\\Filter Corr Attr'\n",
    "X_train.to_pickle(f'{output_dir}\\X_train.pkl')\n",
    "X_test.to_pickle(f'{output_dir}\\X_test.pkl')\n",
    "\n",
    "# Create test and train files containing target values\n",
    "y_test.to_pickle(f'{output_dir}\\y_test.pkl')\n",
    "y_train.to_pickle(f'{output_dir}\\y_train.pkl')"
   ]
  },
  {
   "cell_type": "code",
   "execution_count": null,
   "metadata": {},
   "outputs": [],
   "source": []
  }
 ],
 "metadata": {
  "kernelspec": {
   "display_name": "Python 3",
   "language": "python",
   "name": "python3"
  },
  "language_info": {
   "codemirror_mode": {
    "name": "ipython",
    "version": 3
   },
   "file_extension": ".py",
   "mimetype": "text/x-python",
   "name": "python",
   "nbconvert_exporter": "python",
   "pygments_lexer": "ipython3",
   "version": "3.7.6"
  }
 },
 "nbformat": 4,
 "nbformat_minor": 4
}
