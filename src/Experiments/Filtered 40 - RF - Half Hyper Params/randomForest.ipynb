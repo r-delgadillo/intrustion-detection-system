{
 "cells": [
  {
   "cell_type": "code",
   "execution_count": 1,
   "metadata": {},
   "outputs": [
    {
     "name": "stderr",
     "output_type": "stream",
     "text": [
      "C:\\Users\\rodelga\\Anaconda3\\lib\\site-packages\\sklearn\\externals\\joblib\\__init__.py:15: FutureWarning: sklearn.externals.joblib is deprecated in 0.21 and will be removed in 0.23. Please import this functionality directly from joblib, which can be installed with: pip install joblib. If this warning is raised when loading pickled models, you may need to re-serialize those models with scikit-learn 0.21+.\n",
      "  warnings.warn(msg, category=FutureWarning)\n"
     ]
    }
   ],
   "source": [
    "from sklearn import preprocessing\n",
    "from sklearn.externals import joblib\n",
    "import sklearn as skl\n",
    "from sklearn import tree\n",
    "from collections import defaultdict\n",
    "import pandas as pd\n",
    "import numpy as np\n",
    "import matplotlib.pyplot as plt\n",
    "import pickle\n",
    "from sklearn.metrics import accuracy_score\n",
    "from sklearn.metrics import classification_report \n",
    "%matplotlib inline\n",
    "import time\n",
    "import warnings\n",
    "# 5-class classification version\n",
    "from sklearn.tree import DecisionTreeClassifier\n",
    "from sklearn.metrics import confusion_matrix, zero_one_loss, accuracy_score\n",
    "# Fitting Random Forest Classification to the Training set\n",
    "from sklearn.ensemble import RandomForestClassifier\n",
    "warnings.filterwarnings('ignore')\n",
    "pd.set_option('display.max_rows', 100)"
   ]
  },
  {
   "cell_type": "code",
   "execution_count": 2,
   "metadata": {},
   "outputs": [],
   "source": [
    "data_root_dir = r'D:\\CIC\\Train and Test\\Filter 40 - DT'\n",
    "# Load all the training and testing data\n",
    "X_train = pd.read_pickle(f'{data_root_dir}\\X_train.pkl')\n",
    "X_test = pd.read_pickle(f'{data_root_dir}\\X_test.pkl')\n",
    "y_test = pd.read_pickle(f'{data_root_dir}\\y_test.pkl')\n",
    "y_train = pd.read_pickle(f'{data_root_dir}\\y_train.pkl')"
   ]
  },
  {
   "cell_type": "code",
   "execution_count": 3,
   "metadata": {},
   "outputs": [],
   "source": [
    "# Timer to see how long it takes to test the algorithm\n",
    "startTime = time.perf_counter()\n",
    "\n",
    "rf_classifier = RandomForestClassifier(n_estimators = 10, random_state = 10, n_jobs=-1)\n",
    "rf_classifier.fit(X_train, y_train)\n",
    "\n",
    "# Predicting the Test set results\n",
    "y_pred_rf = rf_classifier.predict(X_test)\n",
    "\n",
    "rf_results = confusion_matrix(y_test, y_pred_rf)\n",
    "rf_error = zero_one_loss(y_test, y_pred_rf)\n",
    "rf_score = accuracy_score(y_test, y_pred_rf) * 100\n",
    "rf_report = classification_report(y_test, y_pred_rf)\n",
    "\n",
    "# Print endTime - startTime to calculate how long it takes\n",
    "endTime = time.perf_counter()"
   ]
  },
  {
   "cell_type": "code",
   "execution_count": 4,
   "metadata": {},
   "outputs": [
    {
     "name": "stdout",
     "output_type": "stream",
     "text": [
      "Total time: 229.0770 seconds \n",
      "\n",
      "Decision Tree Classifier Results\n",
      "=================================================\n",
      "Confusion Matrix:\n",
      "[3982753   33917]\n",
      "[392304 432199] \n",
      "\n",
      "Report :\n",
      "              precision    recall  f1-score   support\n",
      "\n",
      "           0       0.91      0.99      0.95   4016670\n",
      "           1       0.93      0.52      0.67    824503\n",
      "\n",
      "    accuracy                           0.91   4841173\n",
      "   macro avg       0.92      0.76      0.81   4841173\n",
      "weighted avg       0.91      0.91      0.90   4841173\n",
      "\n",
      "True Postive   : 3982753\n",
      "False Positive : 33917\n",
      "False Negative : 392304\n",
      "True Negative  : 432199\n",
      "Error Value    : 0.08804085290899544\n",
      "Accuracy_Score : 91.19591470910045\n",
      "=================================================\n"
     ]
    }
   ],
   "source": [
    "print(f\"Total time: {endTime - startTime:0.4f} seconds \\n\")\n",
    "print(\"Decision Tree Classifier Results\")\n",
    "print(\"=================================================\")\n",
    "print(f\"Confusion Matrix:\")\n",
    "print(f\"{rf_results[0]}\")\n",
    "print(f\"{rf_results[1]} \\n\")\n",
    "\n",
    "print(\"Report :\")\n",
    "print(rf_report) \n",
    "\n",
    "print(f\"True Postive   : {rf_results[0][0]}\")\n",
    "print(f\"False Positive : {rf_results[0][1]}\")\n",
    "print(f\"False Negative : {rf_results[1][0]}\")\n",
    "print(f\"True Negative  : {rf_results[1][1]}\")\n",
    "print(f\"Error Value    : {rf_error}\")\n",
    "print(f\"Accuracy_Score : {rf_score}\")\n",
    "print(\"=================================================\")"
   ]
  },
  {
   "cell_type": "code",
   "execution_count": 11,
   "metadata": {},
   "outputs": [
    {
     "name": "stdout",
     "output_type": "stream",
     "text": [
      "Feature importances sorted:\n",
      "---------------------------------\n"
     ]
    },
    {
     "data": {
      "text/plain": [
       "Tot Fwd Pkts         0.101779\n",
       "Bwd Pkt Len Max      0.099448\n",
       "Subflow Bwd Pkts     0.070464\n",
       "Pkt Len Mean         0.066091\n",
       "TotLen Bwd Pkts      0.063146\n",
       "Bwd Seg Size Avg     0.053907\n",
       "Fwd Pkt Len Std      0.052963\n",
       "Bwd Pkt Len Mean     0.052739\n",
       "Idle Mean            0.052039\n",
       "Fwd Act Data Pkts    0.047629\n",
       "Idle Max             0.045816\n",
       "Bwd Pkt Len Std      0.043376\n",
       "URG Flag Cnt         0.043287\n",
       "Bwd IAT Max          0.034815\n",
       "Bwd IAT Min          0.033542\n",
       "Fwd Pkt Len Min      0.028575\n",
       "Protocol             0.020209\n",
       "Pkt Len Min          0.020115\n",
       "ECE Flag Cnt         0.018333\n",
       "SYN Flag Cnt         0.010021\n",
       "FIN Flag Cnt         0.009952\n",
       "Active Mean          0.008188\n",
       "Active Min           0.007835\n",
       "Active Max           0.004902\n",
       "Fwd PSH Flags        0.004571\n",
       "Idle Std             0.003210\n",
       "Active Std           0.002606\n",
       "Bwd Pkt Len Min      0.000356\n",
       "Fwd URG Flags        0.000047\n",
       "CWE Flag Count       0.000039\n",
       "Bwd URG Flags        0.000000\n",
       "Bwd Blk Rate Avg     0.000000\n",
       "Bwd PSH Flags        0.000000\n",
       "Bwd Byts/b Avg       0.000000\n",
       "Fwd Blk Rate Avg     0.000000\n",
       "Fwd Pkts/b Avg       0.000000\n",
       "Fwd Byts/b Avg       0.000000\n",
       "Timestamp            0.000000\n",
       "Bwd Pkts/b Avg       0.000000\n",
       "dtype: float64"
      ]
     },
     "execution_count": 11,
     "metadata": {},
     "output_type": "execute_result"
    }
   ],
   "source": [
    "feature_importances = pd.Series(rf_classifier.feature_importances_, index=X_test.columns)\n",
    "print('Feature importances sorted:')\n",
    "print('---------------------------------')\n",
    "feature_importances.nlargest(50)"
   ]
  },
  {
   "cell_type": "code",
   "execution_count": 12,
   "metadata": {},
   "outputs": [
    {
     "name": "stdout",
     "output_type": "stream",
     "text": [
      "Top 20 features:\n",
      "---------------------------------\n",
      "Tot Fwd Pkts         0.101779\n",
      "Bwd Pkt Len Max      0.099448\n",
      "Subflow Bwd Pkts     0.070464\n",
      "Pkt Len Mean         0.066091\n",
      "TotLen Bwd Pkts      0.063146\n",
      "Bwd Seg Size Avg     0.053907\n",
      "Fwd Pkt Len Std      0.052963\n",
      "Bwd Pkt Len Mean     0.052739\n",
      "Idle Mean            0.052039\n",
      "Fwd Act Data Pkts    0.047629\n",
      "Idle Max             0.045816\n",
      "Bwd Pkt Len Std      0.043376\n",
      "URG Flag Cnt         0.043287\n",
      "Bwd IAT Max          0.034815\n",
      "Bwd IAT Min          0.033542\n",
      "Fwd Pkt Len Min      0.028575\n",
      "Protocol             0.020209\n",
      "Pkt Len Min          0.020115\n",
      "ECE Flag Cnt         0.018333\n",
      "SYN Flag Cnt         0.010021\n",
      "dtype: float64\n"
     ]
    },
    {
     "data": {
      "image/png": "[encoded data removed]",
      "text/plain": [
       "<Figure size 720x720 with 1 Axes>"
      ]
     },
     "metadata": {
      "needs_background": "light"
     },
     "output_type": "display_data"
    }
   ],
   "source": [
    "print('Top 20 features:')\n",
    "print('---------------------------------')\n",
    "feature_importances.nlargest(20).plot(kind='barh', figsize=(10,10))\n",
    "print(feature_importances.nlargest(20))"
   ]
  },
  {
   "cell_type": "code",
   "execution_count": 13,
   "metadata": {},
   "outputs": [
    {
     "name": "stdout",
     "output_type": "stream",
     "text": [
      "Least 20 features:\n",
      "---------------------------------\n",
      "Timestamp           0.000000\n",
      "Bwd PSH Flags       0.000000\n",
      "Bwd URG Flags       0.000000\n",
      "Fwd Byts/b Avg      0.000000\n",
      "Fwd Pkts/b Avg      0.000000\n",
      "Fwd Blk Rate Avg    0.000000\n",
      "Bwd Byts/b Avg      0.000000\n",
      "Bwd Pkts/b Avg      0.000000\n",
      "Bwd Blk Rate Avg    0.000000\n",
      "CWE Flag Count      0.000039\n",
      "Fwd URG Flags       0.000047\n",
      "Bwd Pkt Len Min     0.000356\n",
      "Active Std          0.002606\n",
      "Idle Std            0.003210\n",
      "Fwd PSH Flags       0.004571\n",
      "Active Max          0.004902\n",
      "Active Min          0.007835\n",
      "Active Mean         0.008188\n",
      "FIN Flag Cnt        0.009952\n",
      "SYN Flag Cnt        0.010021\n",
      "dtype: float64\n"
     ]
    },
    {
     "data": {
      "image/png": "[encoded data removed]",
      "text/plain": [
       "<Figure size 720x720 with 1 Axes>"
      ]
     },
     "metadata": {
      "needs_background": "light"
     },
     "output_type": "display_data"
    }
   ],
   "source": [
    "print('Least 20 features:')\n",
    "print('---------------------------------')\n",
    "feature_importances.nsmallest(20).plot(kind='barh', figsize=(10,10))\n",
    "print(feature_importances.nsmallest(20))"
   ]
  },
  {
   "cell_type": "code",
   "execution_count": null,
   "metadata": {},
   "outputs": [],
   "source": []
  },
  {
   "cell_type": "code",
   "execution_count": null,
   "metadata": {},
   "outputs": [],
   "source": []
  }
 ],
 "metadata": {
  "kernelspec": {
   "display_name": "Python 3",
   "language": "python",
   "name": "python3"
  },
  "language_info": {
   "codemirror_mode": {
    "name": "ipython",
    "version": 3
   },
   "file_extension": ".py",
   "mimetype": "text/x-python",
   "name": "python",
   "nbconvert_exporter": "python",
   "pygments_lexer": "ipython3",
   "version": "3.7.6"
  }
 },
 "nbformat": 4,
 "nbformat_minor": 4
}
