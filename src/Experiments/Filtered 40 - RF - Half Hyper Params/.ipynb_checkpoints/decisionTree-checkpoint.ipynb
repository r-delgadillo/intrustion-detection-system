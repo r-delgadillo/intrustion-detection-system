{
 "cells": [
  {
   "cell_type": "code",
   "execution_count": 1,
   "metadata": {},
   "outputs": [
    {
     "name": "stderr",
     "output_type": "stream",
     "text": [
      "C:\\Users\\rodelga\\Anaconda3\\lib\\site-packages\\sklearn\\externals\\joblib\\__init__.py:15: FutureWarning: sklearn.externals.joblib is deprecated in 0.21 and will be removed in 0.23. Please import this functionality directly from joblib, which can be installed with: pip install joblib. If this warning is raised when loading pickled models, you may need to re-serialize those models with scikit-learn 0.21+.\n",
      "  warnings.warn(msg, category=FutureWarning)\n"
     ]
    }
   ],
   "source": [
    "from sklearn import preprocessing\n",
    "from sklearn.externals import joblib\n",
    "import sklearn as skl\n",
    "from sklearn import tree\n",
    "from collections import defaultdict\n",
    "import pandas as pd\n",
    "import numpy as np\n",
    "import matplotlib.pyplot as plt\n",
    "import pickle\n",
    "from sklearn.metrics import accuracy_score\n",
    "from sklearn.ensemble import ExtraTreesClassifier\n",
    "from sklearn.metrics import classification_report \n",
    "%matplotlib inline\n",
    "import time\n",
    "import warnings\n",
    "# 5-class classification version\n",
    "from sklearn.tree import DecisionTreeClassifier\n",
    "from sklearn.metrics import confusion_matrix, zero_one_loss, accuracy_score\n",
    "warnings.filterwarnings('ignore')\n",
    "pd.set_option('display.max_rows', 100)"
   ]
  },
  {
   "cell_type": "code",
   "execution_count": 2,
   "metadata": {},
   "outputs": [],
   "source": [
    "data_root_dir = r'D:\\CIC\\Train and Test\\Filter 40 - RF'\n",
    "# Load all the training and testing data\n",
    "X_train = pd.read_pickle(f'{data_root_dir}\\X_train.pkl')\n",
    "X_test = pd.read_pickle(f'{data_root_dir}\\X_test.pkl')\n",
    "y_test = pd.read_pickle(f'{data_root_dir}\\y_test.pkl')\n",
    "y_train = pd.read_pickle(f'{data_root_dir}\\y_train.pkl')"
   ]
  },
  {
   "cell_type": "code",
   "execution_count": 3,
   "metadata": {},
   "outputs": [],
   "source": [
    "# Timer to see how long it takes to test the algorithm\n",
    "startTime = time.perf_counter()\n",
    "\n",
    "dt_classifier = DecisionTreeClassifier(random_state=10)\n",
    "dt_classifier.fit(X_train, y_train)\n",
    "\n",
    "y_pred_dt = dt_classifier.predict(X_test)\n",
    "\n",
    "dt_results = confusion_matrix(y_test, y_pred_dt)\n",
    "dt_error = zero_one_loss(y_test, y_pred_dt)\n",
    "dt_score = accuracy_score(y_test, y_pred_dt) * 100\n",
    "dt_report = classification_report(y_test, y_pred_dt)\n",
    "\n",
    "# Print endTime - startTime to calculate how long it takes\n",
    "endTime = time.perf_counter()"
   ]
  },
  {
   "cell_type": "code",
   "execution_count": 4,
   "metadata": {},
   "outputs": [
    {
     "name": "stdout",
     "output_type": "stream",
     "text": [
      "Total time: 418.4782 seconds \n",
      "\n",
      "Decision Tree Classifier Results\n",
      "=================================================\n",
      "Confusion Matrix:\n",
      "[3974112   42558]\n",
      "[391056 433447] \n",
      "\n",
      "Report :\n",
      "              precision    recall  f1-score   support\n",
      "\n",
      "           0       0.91      0.99      0.95   4016670\n",
      "           1       0.91      0.53      0.67    824503\n",
      "\n",
      "    accuracy                           0.91   4841173\n",
      "   macro avg       0.91      0.76      0.81   4841173\n",
      "weighted avg       0.91      0.91      0.90   4841173\n",
      "\n",
      "True Postive   : 3974112\n",
      "False Positive : 42558\n",
      "False Negative : 391056\n",
      "True Negative  : 433447\n",
      "Error Value    : 0.08956796214471163\n",
      "Accuracy_Score : 91.04320378552883\n",
      "=================================================\n"
     ]
    }
   ],
   "source": [
    "print(f\"Total time: {endTime - startTime:0.4f} seconds \\n\")\n",
    "print(\"Decision Tree Classifier Results\")\n",
    "print(\"=================================================\")\n",
    "print(f\"Confusion Matrix:\")\n",
    "print(f\"{dt_results[0]}\")\n",
    "print(f\"{dt_results[1]} \\n\")\n",
    "\n",
    "print(\"Report :\")\n",
    "print(dt_report) \n",
    "\n",
    "print(f\"True Postive   : {dt_results[0][0]}\")\n",
    "print(f\"False Positive : {dt_results[0][1]}\")\n",
    "print(f\"False Negative : {dt_results[1][0]}\")\n",
    "print(f\"True Negative  : {dt_results[1][1]}\")\n",
    "print(f\"Error Value    : {dt_error}\")\n",
    "print(f\"Accuracy_Score : {dt_score}\")\n",
    "print(\"=================================================\")"
   ]
  },
  {
   "cell_type": "code",
   "execution_count": 5,
   "metadata": {},
   "outputs": [
    {
     "name": "stdout",
     "output_type": "stream",
     "text": [
      "Feature importances sorted:\n",
      "---------------------------------\n"
     ]
    },
    {
     "data": {
      "text/plain": [
       "TotLen Bwd Pkts      0.235745\n",
       "Pkt Len Mean         0.227591\n",
       "Bwd Seg Size Avg     0.092948\n",
       "Tot Fwd Pkts         0.076664\n",
       "Bwd Pkt Len Std      0.075519\n",
       "Idle Max             0.055154\n",
       "Idle Mean            0.041362\n",
       "Fwd Act Data Pkts    0.040210\n",
       "URG Flag Cnt         0.039686\n",
       "Bwd IAT Max          0.035924\n",
       "Protocol             0.021408\n",
       "Subflow Bwd Pkts     0.019429\n",
       "FIN Flag Cnt         0.016614\n",
       "Bwd IAT Min          0.007643\n",
       "Bwd Pkt Len Mean     0.003673\n",
       "Fwd Pkt Len Std      0.001930\n",
       "Active Min           0.001551\n",
       "Active Mean          0.001317\n",
       "Idle Std             0.001242\n",
       "Active Max           0.001197\n",
       "Bwd Pkt Len Max      0.001105\n",
       "ECE Flag Cnt         0.000745\n",
       "Active Std           0.000741\n",
       "Fwd Pkt Len Min      0.000200\n",
       "Fwd URG Flags        0.000157\n",
       "Pkt Len Min          0.000123\n",
       "Bwd Pkt Len Min      0.000106\n",
       "SYN Flag Cnt         0.000010\n",
       "Fwd PSH Flags        0.000006\n",
       "Bwd Pkts/b Avg       0.000000\n",
       "Bwd Blk Rate Avg     0.000000\n",
       "Bwd Byts/b Avg       0.000000\n",
       "Fwd Blk Rate Avg     0.000000\n",
       "Fwd Byts/b Avg       0.000000\n",
       "CWE Flag Count       0.000000\n",
       "Timestamp            0.000000\n",
       "Bwd URG Flags        0.000000\n",
       "Bwd PSH Flags        0.000000\n",
       "Fwd Pkts/b Avg       0.000000\n",
       "dtype: float64"
      ]
     },
     "execution_count": 5,
     "metadata": {},
     "output_type": "execute_result"
    }
   ],
   "source": [
    "feature_importances = pd.Series(dt_classifier.feature_importances_, index=X_test.columns)\n",
    "print('Feature importances sorted:')\n",
    "print('---------------------------------')\n",
    "feature_importances.nlargest(50)"
   ]
  },
  {
   "cell_type": "code",
   "execution_count": 9,
   "metadata": {},
   "outputs": [
    {
     "name": "stdout",
     "output_type": "stream",
     "text": [
      "Top 20 features:\n",
      "---------------------------------\n",
      "TotLen Bwd Pkts      0.235745\n",
      "Pkt Len Mean         0.227591\n",
      "Bwd Seg Size Avg     0.092948\n",
      "Tot Fwd Pkts         0.076664\n",
      "Bwd Pkt Len Std      0.075519\n",
      "Idle Max             0.055154\n",
      "Idle Mean            0.041362\n",
      "Fwd Act Data Pkts    0.040210\n",
      "URG Flag Cnt         0.039686\n",
      "Bwd IAT Max          0.035924\n",
      "Protocol             0.021408\n",
      "Subflow Bwd Pkts     0.019429\n",
      "FIN Flag Cnt         0.016614\n",
      "Bwd IAT Min          0.007643\n",
      "Bwd Pkt Len Mean     0.003673\n",
      "Fwd Pkt Len Std      0.001930\n",
      "Active Min           0.001551\n",
      "Active Mean          0.001317\n",
      "Idle Std             0.001242\n",
      "Active Max           0.001197\n",
      "dtype: float64\n"
     ]
    },
    {
     "data": {
      "image/png": "[encoded data removed]",
      "text/plain": [
       "<Figure size 720x720 with 1 Axes>"
      ]
     },
     "metadata": {
      "needs_background": "light"
     },
     "output_type": "display_data"
    }
   ],
   "source": [
    "print('Top 20 features:')\n",
    "print('---------------------------------')\n",
    "feature_importances.nlargest(20).plot(kind='barh', figsize=(10,10))\n",
    "print(feature_importances.nlargest(20))"
   ]
  },
  {
   "cell_type": "code",
   "execution_count": 10,
   "metadata": {},
   "outputs": [
    {
     "name": "stdout",
     "output_type": "stream",
     "text": [
      "Least 20 features:\n",
      "---------------------------------\n",
      "Timestamp           0.000000\n",
      "Bwd PSH Flags       0.000000\n",
      "Bwd URG Flags       0.000000\n",
      "CWE Flag Count      0.000000\n",
      "Fwd Byts/b Avg      0.000000\n",
      "Fwd Pkts/b Avg      0.000000\n",
      "Fwd Blk Rate Avg    0.000000\n",
      "Bwd Byts/b Avg      0.000000\n",
      "Bwd Pkts/b Avg      0.000000\n",
      "Bwd Blk Rate Avg    0.000000\n",
      "Fwd PSH Flags       0.000006\n",
      "SYN Flag Cnt        0.000010\n",
      "Bwd Pkt Len Min     0.000106\n",
      "Pkt Len Min         0.000123\n",
      "Fwd URG Flags       0.000157\n",
      "Fwd Pkt Len Min     0.000200\n",
      "Active Std          0.000741\n",
      "ECE Flag Cnt        0.000745\n",
      "Bwd Pkt Len Max     0.001105\n",
      "Active Max          0.001197\n",
      "dtype: float64\n"
     ]
    },
    {
     "data": {
      "image/png": "[encoded data removed]",
      "text/plain": [
       "<Figure size 720x720 with 1 Axes>"
      ]
     },
     "metadata": {
      "needs_background": "light"
     },
     "output_type": "display_data"
    }
   ],
   "source": [
    "print('Least 20 features:')\n",
    "print('---------------------------------')\n",
    "feature_importances.nsmallest(20).plot(kind='barh', figsize=(10,10))\n",
    "print(feature_importances.nsmallest(20))"
   ]
  },
  {
   "cell_type": "code",
   "execution_count": null,
   "metadata": {},
   "outputs": [],
   "source": []
  }
 ],
 "metadata": {
  "kernelspec": {
   "display_name": "Python 3",
   "language": "python",
   "name": "python3"
  },
  "language_info": {
   "codemirror_mode": {
    "name": "ipython",
    "version": 3
   },
   "file_extension": ".py",
   "mimetype": "text/x-python",
   "name": "python",
   "nbconvert_exporter": "python",
   "pygments_lexer": "ipython3",
   "version": "3.7.6"
  }
 },
 "nbformat": 4,
 "nbformat_minor": 4
}
