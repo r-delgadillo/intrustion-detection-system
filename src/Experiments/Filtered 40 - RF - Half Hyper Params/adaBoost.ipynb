{
 "cells": [
  {
   "cell_type": "code",
   "execution_count": 1,
   "metadata": {},
   "outputs": [
    {
     "name": "stderr",
     "output_type": "stream",
     "text": [
      "C:\\Users\\rodelga\\Anaconda3\\lib\\site-packages\\sklearn\\externals\\joblib\\__init__.py:15: FutureWarning: sklearn.externals.joblib is deprecated in 0.21 and will be removed in 0.23. Please import this functionality directly from joblib, which can be installed with: pip install joblib. If this warning is raised when loading pickled models, you may need to re-serialize those models with scikit-learn 0.21+.\n",
      "  warnings.warn(msg, category=FutureWarning)\n"
     ]
    }
   ],
   "source": [
    "from sklearn import preprocessing\n",
    "from sklearn.externals import joblib\n",
    "import sklearn as skl\n",
    "from sklearn import tree\n",
    "from collections import defaultdict\n",
    "import pandas as pd\n",
    "import numpy as np\n",
    "import matplotlib.pyplot as plt\n",
    "import pickle\n",
    "from sklearn.metrics import accuracy_score\n",
    "from sklearn.metrics import classification_report \n",
    "%matplotlib inline\n",
    "import time\n",
    "import warnings\n",
    "from sklearn import model_selection\n",
    "# 5-class classification version\n",
    "from sklearn.tree import DecisionTreeClassifier\n",
    "from sklearn.ensemble import AdaBoostClassifier\n",
    "from sklearn.metrics import confusion_matrix, zero_one_loss, accuracy_score\n",
    "# Fitting Random Forest Classification to the Training set\n",
    "from sklearn.ensemble import RandomForestClassifier\n",
    "warnings.filterwarnings('ignore')\n",
    "pd.set_option('display.max_rows', 100)"
   ]
  },
  {
   "cell_type": "code",
   "execution_count": 2,
   "metadata": {},
   "outputs": [],
   "source": [
    "data_root_dir = r'D:\\CIC\\Train and Test\\Filtered 40 - RF'\n",
    "# Load all the training and testing data\n",
    "X_train = pd.read_pickle(f'{data_root_dir}\\X_train.pkl')\n",
    "X_test = pd.read_pickle(f'{data_root_dir}\\X_test.pkl')\n",
    "y_test = pd.read_pickle(f'{data_root_dir}\\y_test.pkl')\n",
    "y_train = pd.read_pickle(f'{data_root_dir}\\y_train.pkl')"
   ]
  },
  {
   "cell_type": "code",
   "execution_count": 3,
   "metadata": {},
   "outputs": [
    {
     "name": "stdout",
     "output_type": "stream",
     "text": [
      "Total time: 4142.1101 seconds \n",
      "\n"
     ]
    }
   ],
   "source": [
    "# Timer to see how long it takes to test the algorithm\n",
    "startTime = time.perf_counter()\n",
    "\n",
    "\n",
    "# 'n_estimators' is equal to the numebr of trees\n",
    "adaBoost1 = AdaBoostClassifier(n_estimators=100)\n",
    "adaBoost1.fit(X_train, y_train)\n",
    "\n",
    "predictions = adaBoost1.predict(X_test)\n",
    "confusion_matrix(y_test, predictions)\n",
    "\n",
    "# Print endTime - startTime to calculate how long it takes\n",
    "endTime = time.perf_counter()\n",
    "\n",
    "print(f\"Total time: {endTime - startTime:0.4f} seconds \\n\")"
   ]
  },
  {
   "cell_type": "code",
   "execution_count": 4,
   "metadata": {},
   "outputs": [],
   "source": [
    "results = confusion_matrix(y_test, predictions)\n",
    "error = zero_one_loss(y_test, predictions)\n",
    "score = accuracy_score(y_test, predictions) * 100\n",
    "report = classification_report(y_test, predictions)\n"
   ]
  },
  {
   "cell_type": "code",
   "execution_count": 5,
   "metadata": {},
   "outputs": [
    {
     "name": "stdout",
     "output_type": "stream",
     "text": [
      "Total time: 4142.1101 seconds \n",
      "\n",
      "AdaBoost Classifier Results\n",
      "=================================================\n",
      "Confusion Matrix:\n",
      "[3981528   35142]\n",
      "[422353 402150] \n",
      "\n",
      "Report :\n",
      "              precision    recall  f1-score   support\n",
      "\n",
      "           0       0.90      0.99      0.95   4016670\n",
      "           1       0.92      0.49      0.64    824503\n",
      "\n",
      "    accuracy                           0.91   4841173\n",
      "   macro avg       0.91      0.74      0.79   4841173\n",
      "weighted avg       0.91      0.91      0.89   4841173\n",
      "\n",
      "True Postive   : 3981528\n",
      "False Positive : 35142\n",
      "False Negative : 422353\n",
      "True Negative  : 402150\n",
      "Error Value    : 0.0945008575401044\n",
      "Accuracy_Score : 90.54991424598956\n",
      "=================================================\n"
     ]
    }
   ],
   "source": [
    "print(f\"Total time: {endTime - startTime:0.4f} seconds \\n\")\n",
    "print(\"AdaBoost Classifier Results\")\n",
    "print(\"=================================================\")\n",
    "print(f\"Confusion Matrix:\")\n",
    "print(f\"{results[0]}\")\n",
    "print(f\"{results[1]} \\n\")\n",
    "\n",
    "print(\"Report :\")\n",
    "print(report) \n",
    "\n",
    "print(f\"True Postive   : {results[0][0]}\")\n",
    "print(f\"False Positive : {results[0][1]}\")\n",
    "print(f\"False Negative : {results[1][0]}\")\n",
    "print(f\"True Negative  : {results[1][1]}\")\n",
    "print(f\"Error Value    : {error}\")\n",
    "print(f\"Accuracy_Score : {score}\")\n",
    "print(\"=================================================\")"
   ]
  },
  {
   "cell_type": "code",
   "execution_count": 6,
   "metadata": {},
   "outputs": [
    {
     "data": {
      "text/plain": [
       "(4841173, 39)"
      ]
     },
     "execution_count": 6,
     "metadata": {},
     "output_type": "execute_result"
    }
   ],
   "source": [
    "X_test.shape"
   ]
  },
  {
   "cell_type": "code",
   "execution_count": 7,
   "metadata": {},
   "outputs": [
    {
     "name": "stdout",
     "output_type": "stream",
     "text": [
      "Feature importances sorted:\n",
      "---------------------------------\n"
     ]
    },
    {
     "data": {
      "text/plain": [
       "Bwd Pkt Len Max      0.15\n",
       "Tot Fwd Pkts         0.13\n",
       "Fwd Pkt Len Std      0.10\n",
       "Idle Mean            0.07\n",
       "Bwd IAT Max          0.07\n",
       "Bwd IAT Min          0.06\n",
       "Idle Max             0.05\n",
       "Bwd Pkt Len Std      0.05\n",
       "Pkt Len Mean         0.04\n",
       "Subflow Bwd Pkts     0.04\n",
       "Bwd Seg Size Avg     0.04\n",
       "TotLen Bwd Pkts      0.03\n",
       "Fwd Act Data Pkts    0.03\n",
       "URG Flag Cnt         0.03\n",
       "Active Max           0.02\n",
       "ECE Flag Cnt         0.02\n",
       "Protocol             0.02\n",
       "FIN Flag Cnt         0.01\n",
       "Fwd Pkt Len Min      0.01\n",
       "Bwd Pkt Len Min      0.01\n",
       "Bwd Pkt Len Mean     0.01\n",
       "Fwd PSH Flags        0.01\n",
       "Pkt Len Min          0.00\n",
       "Idle Std             0.00\n",
       "Active Min           0.00\n",
       "Active Std           0.00\n",
       "Active Mean          0.00\n",
       "Bwd Blk Rate Avg     0.00\n",
       "Bwd Pkts/b Avg       0.00\n",
       "Bwd Byts/b Avg       0.00\n",
       "Fwd Blk Rate Avg     0.00\n",
       "Fwd Pkts/b Avg       0.00\n",
       "Fwd Byts/b Avg       0.00\n",
       "Bwd PSH Flags        0.00\n",
       "Fwd URG Flags        0.00\n",
       "CWE Flag Count       0.00\n",
       "Bwd URG Flags        0.00\n",
       "Timestamp            0.00\n",
       "SYN Flag Cnt         0.00\n",
       "dtype: float64"
      ]
     },
     "execution_count": 7,
     "metadata": {},
     "output_type": "execute_result"
    }
   ],
   "source": [
    "feature_importances = pd.Series(adaBoost1.feature_importances_, index=X_test.columns)\n",
    "print('Feature importances sorted:')\n",
    "print('---------------------------------')\n",
    "feature_importances.nlargest(50)"
   ]
  },
  {
   "cell_type": "code",
   "execution_count": 8,
   "metadata": {},
   "outputs": [
    {
     "name": "stdout",
     "output_type": "stream",
     "text": [
      "Top 20 features:\n",
      "---------------------------------\n",
      "Bwd Pkt Len Max      0.15\n",
      "Tot Fwd Pkts         0.13\n",
      "Fwd Pkt Len Std      0.10\n",
      "Bwd IAT Max          0.07\n",
      "Idle Mean            0.07\n",
      "Bwd IAT Min          0.06\n",
      "Bwd Pkt Len Std      0.05\n",
      "Idle Max             0.05\n",
      "Pkt Len Mean         0.04\n",
      "Bwd Seg Size Avg     0.04\n",
      "Subflow Bwd Pkts     0.04\n",
      "TotLen Bwd Pkts      0.03\n",
      "URG Flag Cnt         0.03\n",
      "Fwd Act Data Pkts    0.03\n",
      "Protocol             0.02\n",
      "ECE Flag Cnt         0.02\n",
      "Active Max           0.02\n",
      "Fwd Pkt Len Min      0.01\n",
      "Bwd Pkt Len Min      0.01\n",
      "Bwd Pkt Len Mean     0.01\n",
      "dtype: float64\n"
     ]
    },
    {
     "data": {
      "image/png": "[encoded data removed]",
      "text/plain": [
       "<Figure size 720x720 with 1 Axes>"
      ]
     },
     "metadata": {
      "needs_background": "light"
     },
     "output_type": "display_data"
    }
   ],
   "source": [
    "print('Top 20 features:')\n",
    "print('---------------------------------')\n",
    "feature_importances.nlargest(20).plot(kind='barh', figsize=(10,10))\n",
    "print(feature_importances.nlargest(20))"
   ]
  },
  {
   "cell_type": "code",
   "execution_count": 9,
   "metadata": {},
   "outputs": [
    {
     "name": "stdout",
     "output_type": "stream",
     "text": [
      "Least 20 features:\n",
      "---------------------------------\n",
      "Timestamp           0.00\n",
      "Bwd PSH Flags       0.00\n",
      "Fwd URG Flags       0.00\n",
      "Bwd URG Flags       0.00\n",
      "Pkt Len Min         0.00\n",
      "SYN Flag Cnt        0.00\n",
      "CWE Flag Count      0.00\n",
      "Fwd Byts/b Avg      0.00\n",
      "Fwd Pkts/b Avg      0.00\n",
      "Fwd Blk Rate Avg    0.00\n",
      "Bwd Byts/b Avg      0.00\n",
      "Bwd Pkts/b Avg      0.00\n",
      "Bwd Blk Rate Avg    0.00\n",
      "Active Mean         0.00\n",
      "Active Std          0.00\n",
      "Active Min          0.00\n",
      "Idle Std            0.00\n",
      "Fwd Pkt Len Min     0.01\n",
      "Bwd Pkt Len Min     0.01\n",
      "Bwd Pkt Len Mean    0.01\n",
      "dtype: float64\n"
     ]
    },
    {
     "data": {
      "image/png": "[encoded data removed]",
      "text/plain": [
       "<Figure size 720x720 with 1 Axes>"
      ]
     },
     "metadata": {
      "needs_background": "light"
     },
     "output_type": "display_data"
    }
   ],
   "source": [
    "print('Least 20 features:')\n",
    "print('---------------------------------')\n",
    "feature_importances.nsmallest(20).plot(kind='barh', figsize=(10,10))\n",
    "print(feature_importances.nsmallest(20))"
   ]
  },
  {
   "cell_type": "code",
   "execution_count": null,
   "metadata": {},
   "outputs": [],
   "source": [
    "model_file_path = r'D:\\CIC\\Train and Test\\Filtered 40 - RF\\adaBoost_model_half_hyper_params.sav'\n",
    "pickle.dump(adaBoost1, open(model_file_path, 'wb'))"
   ]
  },
  {
   "cell_type": "code",
   "execution_count": null,
   "metadata": {},
   "outputs": [],
   "source": []
  }
 ],
 "metadata": {
  "kernelspec": {
   "display_name": "Python 3",
   "language": "python",
   "name": "python3"
  },
  "language_info": {
   "codemirror_mode": {
    "name": "ipython",
    "version": 3
   },
   "file_extension": ".py",
   "mimetype": "text/x-python",
   "name": "python",
   "nbconvert_exporter": "python",
   "pygments_lexer": "ipython3",
   "version": "3.7.6"
  }
 },
 "nbformat": 4,
 "nbformat_minor": 4
}
