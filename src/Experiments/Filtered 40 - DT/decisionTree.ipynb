{
 "cells": [
  {
   "cell_type": "code",
   "execution_count": 1,
   "metadata": {},
   "outputs": [
    {
     "name": "stderr",
     "output_type": "stream",
     "text": [
      "C:\\Users\\rodelga\\Anaconda3\\lib\\site-packages\\sklearn\\externals\\joblib\\__init__.py:15: FutureWarning: sklearn.externals.joblib is deprecated in 0.21 and will be removed in 0.23. Please import this functionality directly from joblib, which can be installed with: pip install joblib. If this warning is raised when loading pickled models, you may need to re-serialize those models with scikit-learn 0.21+.\n",
      "  warnings.warn(msg, category=FutureWarning)\n"
     ]
    }
   ],
   "source": [
    "from sklearn import preprocessing\n",
    "from sklearn.externals import joblib\n",
    "import sklearn as skl\n",
    "from sklearn import tree\n",
    "from collections import defaultdict\n",
    "import pandas as pd\n",
    "import numpy as np\n",
    "import matplotlib.pyplot as plt\n",
    "import pickle\n",
    "from sklearn.metrics import accuracy_score\n",
    "from sklearn.ensemble import ExtraTreesClassifier\n",
    "from sklearn.metrics import classification_report \n",
    "%matplotlib inline\n",
    "import time\n",
    "import warnings\n",
    "# 5-class classification version\n",
    "from sklearn.tree import DecisionTreeClassifier\n",
    "from sklearn.metrics import confusion_matrix, zero_one_loss, accuracy_score\n",
    "warnings.filterwarnings('ignore')\n",
    "pd.set_option('display.max_rows', 100)"
   ]
  },
  {
   "cell_type": "code",
   "execution_count": 2,
   "metadata": {},
   "outputs": [],
   "source": [
    "data_root_dir = r'D:\\CIC\\Train and Test\\Filter 40 - DT'\n",
    "# Load all the training and testing data\n",
    "X_train = pd.read_pickle(f'{data_root_dir}\\X_train.pkl')\n",
    "X_test = pd.read_pickle(f'{data_root_dir}\\X_test.pkl')\n",
    "y_test = pd.read_pickle(f'{data_root_dir}\\y_test.pkl')\n",
    "y_train = pd.read_pickle(f'{data_root_dir}\\y_train.pkl')"
   ]
  },
  {
   "cell_type": "code",
   "execution_count": 3,
   "metadata": {},
   "outputs": [],
   "source": [
    "# Timer to see how long it takes to test the algorithm\n",
    "startTime = time.perf_counter()\n",
    "\n",
    "dt_classifier = DecisionTreeClassifier(random_state=10)\n",
    "dt_classifier.fit(X_train, y_train)\n",
    "\n",
    "y_pred_dt = dt_classifier.predict(X_test)\n",
    "\n",
    "dt_results = confusion_matrix(y_test, y_pred_dt)\n",
    "dt_error = zero_one_loss(y_test, y_pred_dt)\n",
    "dt_score = accuracy_score(y_test, y_pred_dt) * 100\n",
    "dt_report = classification_report(y_test, y_pred_dt)\n",
    "\n",
    "# Print endTime - startTime to calculate how long it takes\n",
    "endTime = time.perf_counter()"
   ]
  },
  {
   "cell_type": "code",
   "execution_count": 4,
   "metadata": {},
   "outputs": [
    {
     "name": "stdout",
     "output_type": "stream",
     "text": [
      "Total time: 1575.2179 seconds \n",
      "\n",
      "Decision Tree Classifier Results\n",
      "=================================================\n",
      "Confusion Matrix:\n",
      "[3986868   29802]\n",
      "[ 42712 781791] \n",
      "\n",
      "Report :\n",
      "              precision    recall  f1-score   support\n",
      "\n",
      "           0       0.99      0.99      0.99   4016670\n",
      "           1       0.96      0.95      0.96    824503\n",
      "\n",
      "    accuracy                           0.99   4841173\n",
      "   macro avg       0.98      0.97      0.97   4841173\n",
      "weighted avg       0.98      0.99      0.98   4841173\n",
      "\n",
      "True Postive   : 3986868\n",
      "False Positive : 29802\n",
      "False Negative : 42712\n",
      "True Negative  : 781791\n",
      "Error Value    : 0.014978601260479674\n",
      "Accuracy_Score : 98.50213987395203\n",
      "=================================================\n"
     ]
    }
   ],
   "source": [
    "print(f\"Total time: {endTime - startTime:0.4f} seconds \\n\")\n",
    "print(\"Decision Tree Classifier Results\")\n",
    "print(\"=================================================\")\n",
    "print(f\"Confusion Matrix:\")\n",
    "print(f\"{dt_results[0]}\")\n",
    "print(f\"{dt_results[1]} \\n\")\n",
    "\n",
    "print(\"Report :\")\n",
    "print(dt_report) \n",
    "\n",
    "print(f\"True Postive   : {dt_results[0][0]}\")\n",
    "print(f\"False Positive : {dt_results[0][1]}\")\n",
    "print(f\"False Negative : {dt_results[1][0]}\")\n",
    "print(f\"True Negative  : {dt_results[1][1]}\")\n",
    "print(f\"Error Value    : {dt_error}\")\n",
    "print(f\"Accuracy_Score : {dt_score}\")\n",
    "print(\"=================================================\")"
   ]
  },
  {
   "cell_type": "code",
   "execution_count": 5,
   "metadata": {},
   "outputs": [
    {
     "name": "stdout",
     "output_type": "stream",
     "text": [
      "Feature importances sorted:\n",
      "---------------------------------\n"
     ]
    },
    {
     "data": {
      "text/plain": [
       "Dst Port             0.298448\n",
       "TotLen Fwd Pkts      0.204610\n",
       "Fwd Seg Size Min     0.100716\n",
       "Flow Duration        0.089007\n",
       "Init Fwd Win Byts    0.066427\n",
       "Bwd Seg Size Avg     0.052141\n",
       "Fwd IAT Tot          0.046124\n",
       "Fwd Pkts/s           0.036816\n",
       "Fwd IAT Std          0.028316\n",
       "Flow IAT Min         0.012681\n",
       "Fwd IAT Min          0.011286\n",
       "Bwd Pkt Len Mean     0.007927\n",
       "Fwd IAT Mean         0.004597\n",
       "Flow IAT Mean        0.003562\n",
       "Flow IAT Std         0.003518\n",
       "Flow Byts/s          0.003289\n",
       "Bwd Pkt Len Max      0.003229\n",
       "Fwd Header Len       0.002897\n",
       "Bwd Pkts/s           0.002784\n",
       "Flow IAT Max         0.002301\n",
       "URG Flag Cnt         0.001861\n",
       "Fwd Act Data Pkts    0.001730\n",
       "Flow Pkts/s          0.001633\n",
       "Fwd IAT Max          0.001385\n",
       "Bwd IAT Min          0.001197\n",
       "Init Bwd Win Byts    0.001145\n",
       "Fwd Pkt Len Max      0.001127\n",
       "PSH Flag Cnt         0.001126\n",
       "Fwd Pkt Len Mean     0.001039\n",
       "Bwd IAT Std          0.000981\n",
       "Bwd IAT Max          0.000950\n",
       "ACK Flag Cnt         0.000909\n",
       "Bwd IAT Tot          0.000894\n",
       "Bwd IAT Mean         0.000806\n",
       "FIN Flag Cnt         0.000594\n",
       "Idle Min             0.000561\n",
       "Idle Mean            0.000559\n",
       "Bwd Header Len       0.000394\n",
       "Idle Max             0.000324\n",
       "Subflow Fwd Pkts     0.000111\n",
       "dtype: float64"
      ]
     },
     "execution_count": 5,
     "metadata": {},
     "output_type": "execute_result"
    }
   ],
   "source": [
    "feature_importances = pd.Series(dt_classifier.feature_importances_, index=X_test.columns)\n",
    "print('Feature importances sorted:')\n",
    "print('---------------------------------')\n",
    "feature_importances.nlargest(50)"
   ]
  },
  {
   "cell_type": "code",
   "execution_count": 6,
   "metadata": {},
   "outputs": [
    {
     "name": "stdout",
     "output_type": "stream",
     "text": [
      "Top 20 features:\n",
      "---------------------------------\n",
      "Dst Port             0.298448\n",
      "TotLen Fwd Pkts      0.204610\n",
      "Fwd Seg Size Min     0.100716\n",
      "Flow Duration        0.089007\n",
      "Init Fwd Win Byts    0.066427\n",
      "Bwd Seg Size Avg     0.052141\n",
      "Fwd IAT Tot          0.046124\n",
      "Fwd Pkts/s           0.036816\n",
      "Fwd IAT Std          0.028316\n",
      "Flow IAT Min         0.012681\n",
      "Fwd IAT Min          0.011286\n",
      "Bwd Pkt Len Mean     0.007927\n",
      "Fwd IAT Mean         0.004597\n",
      "Flow IAT Mean        0.003562\n",
      "Flow IAT Std         0.003518\n",
      "Flow Byts/s          0.003289\n",
      "Bwd Pkt Len Max      0.003229\n",
      "Fwd Header Len       0.002897\n",
      "Bwd Pkts/s           0.002784\n",
      "Flow IAT Max         0.002301\n",
      "dtype: float64\n"
     ]
    },
    {
     "data": {
      "image/png": "[encoded data removed]",
      "text/plain": [
       "<Figure size 720x720 with 1 Axes>"
      ]
     },
     "metadata": {
      "needs_background": "light"
     },
     "output_type": "display_data"
    }
   ],
   "source": [
    "print('Top 20 features:')\n",
    "print('---------------------------------')\n",
    "feature_importances.nlargest(20).plot(kind='barh', figsize=(10,10))\n",
    "print(feature_importances.nlargest(20))"
   ]
  },
  {
   "cell_type": "code",
   "execution_count": 7,
   "metadata": {},
   "outputs": [
    {
     "name": "stdout",
     "output_type": "stream",
     "text": [
      "Least 20 features:\n",
      "---------------------------------\n",
      "Subflow Fwd Pkts     0.000111\n",
      "Idle Max             0.000324\n",
      "Bwd Header Len       0.000394\n",
      "Idle Mean            0.000559\n",
      "Idle Min             0.000561\n",
      "FIN Flag Cnt         0.000594\n",
      "Bwd IAT Mean         0.000806\n",
      "Bwd IAT Tot          0.000894\n",
      "ACK Flag Cnt         0.000909\n",
      "Bwd IAT Max          0.000950\n",
      "Bwd IAT Std          0.000981\n",
      "Fwd Pkt Len Mean     0.001039\n",
      "PSH Flag Cnt         0.001126\n",
      "Fwd Pkt Len Max      0.001127\n",
      "Init Bwd Win Byts    0.001145\n",
      "Bwd IAT Min          0.001197\n",
      "Fwd IAT Max          0.001385\n",
      "Flow Pkts/s          0.001633\n",
      "Fwd Act Data Pkts    0.001730\n",
      "URG Flag Cnt         0.001861\n",
      "dtype: float64\n"
     ]
    },
    {
     "data": {
      "image/png": "[encoded data removed]",
      "text/plain": [
       "<Figure size 720x720 with 1 Axes>"
      ]
     },
     "metadata": {
      "needs_background": "light"
     },
     "output_type": "display_data"
    }
   ],
   "source": [
    "print('Least 20 features:')\n",
    "print('---------------------------------')\n",
    "feature_importances.nsmallest(20).plot(kind='barh', figsize=(10,10))\n",
    "print(feature_importances.nsmallest(20))"
   ]
  },
  {
   "cell_type": "markdown",
   "metadata": {},
   "source": [
    "# "
   ]
  }
 ],
 "metadata": {
  "kernelspec": {
   "display_name": "Python 3",
   "language": "python",
   "name": "python3"
  },
  "language_info": {
   "codemirror_mode": {
    "name": "ipython",
    "version": 3
   },
   "file_extension": ".py",
   "mimetype": "text/x-python",
   "name": "python",
   "nbconvert_exporter": "python",
   "pygments_lexer": "ipython3",
   "version": "3.7.6"
  }
 },
 "nbformat": 4,
 "nbformat_minor": 4
}
