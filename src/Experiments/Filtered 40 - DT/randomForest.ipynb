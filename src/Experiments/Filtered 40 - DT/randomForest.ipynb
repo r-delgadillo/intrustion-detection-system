{
 "cells": [
  {
   "cell_type": "code",
   "execution_count": 1,
   "metadata": {},
   "outputs": [
    {
     "name": "stderr",
     "output_type": "stream",
     "text": [
      "C:\\Users\\rodelga\\Anaconda3\\lib\\site-packages\\sklearn\\externals\\joblib\\__init__.py:15: FutureWarning: sklearn.externals.joblib is deprecated in 0.21 and will be removed in 0.23. Please import this functionality directly from joblib, which can be installed with: pip install joblib. If this warning is raised when loading pickled models, you may need to re-serialize those models with scikit-learn 0.21+.\n",
      "  warnings.warn(msg, category=FutureWarning)\n"
     ]
    }
   ],
   "source": [
    "from sklearn import preprocessing\n",
    "from sklearn.externals import joblib\n",
    "import sklearn as skl\n",
    "from sklearn import tree\n",
    "from collections import defaultdict\n",
    "import pandas as pd\n",
    "import numpy as np\n",
    "import matplotlib.pyplot as plt\n",
    "import pickle\n",
    "from sklearn.metrics import accuracy_score\n",
    "from sklearn.metrics import classification_report \n",
    "%matplotlib inline\n",
    "import time\n",
    "import warnings\n",
    "# 5-class classification version\n",
    "from sklearn.tree import DecisionTreeClassifier\n",
    "from sklearn.metrics import confusion_matrix, zero_one_loss, accuracy_score\n",
    "# Fitting Random Forest Classification to the Training set\n",
    "from sklearn.ensemble import RandomForestClassifier\n",
    "warnings.filterwarnings('ignore')\n",
    "pd.set_option('display.max_rows', 100)"
   ]
  },
  {
   "cell_type": "code",
   "execution_count": 2,
   "metadata": {},
   "outputs": [],
   "source": [
    "data_root_dir = r'D:\\CIC\\Train and Test\\Filter 40 - DT'\n",
    "# Load all the training and testing data\n",
    "X_train = pd.read_pickle(f'{data_root_dir}\\X_train.pkl')\n",
    "X_test = pd.read_pickle(f'{data_root_dir}\\X_test.pkl')\n",
    "y_test = pd.read_pickle(f'{data_root_dir}\\y_test.pkl')\n",
    "y_train = pd.read_pickle(f'{data_root_dir}\\y_train.pkl')"
   ]
  },
  {
   "cell_type": "code",
   "execution_count": 3,
   "metadata": {},
   "outputs": [],
   "source": [
    "# Timer to see how long it takes to test the algorithm\n",
    "startTime = time.perf_counter()\n",
    "\n",
    "rf_classifier = RandomForestClassifier(n_estimators = 10, random_state = 10, n_jobs=-1)\n",
    "rf_classifier.fit(X_train, y_train)\n",
    "\n",
    "# Predicting the Test set results\n",
    "y_pred_rf = rf_classifier.predict(X_test)\n",
    "\n",
    "rf_results = confusion_matrix(y_test, y_pred_rf)\n",
    "rf_error = zero_one_loss(y_test, y_pred_rf)\n",
    "rf_score = accuracy_score(y_test, y_pred_rf) * 100\n",
    "rf_report = classification_report(y_test, y_pred_rf)\n",
    "\n",
    "# Print endTime - startTime to calculate how long it takes\n",
    "endTime = time.perf_counter()"
   ]
  },
  {
   "cell_type": "code",
   "execution_count": 4,
   "metadata": {},
   "outputs": [
    {
     "name": "stdout",
     "output_type": "stream",
     "text": [
      "Total time: 581.0541 seconds \n",
      "\n",
      "Decision Tree Classifier Results\n",
      "=================================================\n",
      "Confusion Matrix:\n",
      "[4003723   12947]\n",
      "[ 44256 780247] \n",
      "\n",
      "Report :\n",
      "              precision    recall  f1-score   support\n",
      "\n",
      "           0       0.99      1.00      0.99   4016670\n",
      "           1       0.98      0.95      0.96    824503\n",
      "\n",
      "    accuracy                           0.99   4841173\n",
      "   macro avg       0.99      0.97      0.98   4841173\n",
      "weighted avg       0.99      0.99      0.99   4841173\n",
      "\n",
      "True Postive   : 4003723\n",
      "False Positive : 12947\n",
      "False Negative : 44256\n",
      "True Negative  : 780247\n",
      "Error Value    : 0.011815937996844994\n",
      "Accuracy_Score : 98.81840620031551\n",
      "=================================================\n"
     ]
    }
   ],
   "source": [
    "print(f\"Total time: {endTime - startTime:0.4f} seconds \\n\")\n",
    "print(\"Decision Tree Classifier Results\")\n",
    "print(\"=================================================\")\n",
    "print(f\"Confusion Matrix:\")\n",
    "print(f\"{rf_results[0]}\")\n",
    "print(f\"{rf_results[1]} \\n\")\n",
    "\n",
    "print(\"Report :\")\n",
    "print(rf_report) \n",
    "\n",
    "print(f\"True Postive   : {rf_results[0][0]}\")\n",
    "print(f\"False Positive : {rf_results[0][1]}\")\n",
    "print(f\"False Negative : {rf_results[1][0]}\")\n",
    "print(f\"True Negative  : {rf_results[1][1]}\")\n",
    "print(f\"Error Value    : {rf_error}\")\n",
    "print(f\"Accuracy_Score : {rf_score}\")\n",
    "print(\"=================================================\")"
   ]
  },
  {
   "cell_type": "code",
   "execution_count": 5,
   "metadata": {},
   "outputs": [
    {
     "name": "stdout",
     "output_type": "stream",
     "text": [
      "Feature importances sorted:\n",
      "---------------------------------\n"
     ]
    },
    {
     "data": {
      "text/plain": [
       "Fwd Pkt Len Mean     0.108704\n",
       "Init Fwd Win Byts    0.084628\n",
       "Fwd Seg Size Min     0.082507\n",
       "Fwd Pkts/s           0.073986\n",
       "Dst Port             0.068034\n",
       "Fwd Pkt Len Max      0.062275\n",
       "Init Bwd Win Byts    0.040266\n",
       "Fwd IAT Mean         0.039932\n",
       "Fwd IAT Tot          0.038149\n",
       "Flow Byts/s          0.035872\n",
       "Fwd IAT Max          0.035204\n",
       "Flow IAT Mean        0.031157\n",
       "Flow IAT Min         0.029977\n",
       "Flow IAT Max         0.028557\n",
       "Subflow Fwd Pkts     0.027051\n",
       "Fwd IAT Std          0.022942\n",
       "Fwd Header Len       0.019134\n",
       "Fwd IAT Min          0.018463\n",
       "ACK Flag Cnt         0.018141\n",
       "TotLen Fwd Pkts      0.017814\n",
       "Bwd Header Len       0.016385\n",
       "Flow Pkts/s          0.015603\n",
       "Flow Duration        0.014848\n",
       "Bwd Seg Size Avg     0.010677\n",
       "Bwd IAT Min          0.010378\n",
       "Bwd IAT Tot          0.009646\n",
       "Bwd Pkts/s           0.008144\n",
       "Flow IAT Std         0.007174\n",
       "Bwd Pkt Len Max      0.006316\n",
       "Bwd IAT Std          0.002740\n",
       "Bwd Pkt Len Mean     0.002549\n",
       "Fwd Act Data Pkts    0.002316\n",
       "URG Flag Cnt         0.002162\n",
       "Bwd IAT Max          0.001871\n",
       "Bwd IAT Mean         0.001601\n",
       "PSH Flag Cnt         0.001480\n",
       "Idle Min             0.001128\n",
       "Idle Mean            0.000922\n",
       "Idle Max             0.000914\n",
       "FIN Flag Cnt         0.000355\n",
       "dtype: float64"
      ]
     },
     "execution_count": 5,
     "metadata": {},
     "output_type": "execute_result"
    }
   ],
   "source": [
    "feature_importances = pd.Series(rf_classifier.feature_importances_, index=X_test.columns)\n",
    "print('Feature importances sorted:')\n",
    "print('---------------------------------')\n",
    "feature_importances.nlargest(50)"
   ]
  },
  {
   "cell_type": "code",
   "execution_count": 6,
   "metadata": {},
   "outputs": [
    {
     "name": "stdout",
     "output_type": "stream",
     "text": [
      "Top 20 features:\n",
      "---------------------------------\n",
      "Fwd Pkt Len Mean     0.108704\n",
      "Init Fwd Win Byts    0.084628\n",
      "Fwd Seg Size Min     0.082507\n",
      "Fwd Pkts/s           0.073986\n",
      "Dst Port             0.068034\n",
      "Fwd Pkt Len Max      0.062275\n",
      "Init Bwd Win Byts    0.040266\n",
      "Fwd IAT Mean         0.039932\n",
      "Fwd IAT Tot          0.038149\n",
      "Flow Byts/s          0.035872\n",
      "Fwd IAT Max          0.035204\n",
      "Flow IAT Mean        0.031157\n",
      "Flow IAT Min         0.029977\n",
      "Flow IAT Max         0.028557\n",
      "Subflow Fwd Pkts     0.027051\n",
      "Fwd IAT Std          0.022942\n",
      "Fwd Header Len       0.019134\n",
      "Fwd IAT Min          0.018463\n",
      "ACK Flag Cnt         0.018141\n",
      "TotLen Fwd Pkts      0.017814\n",
      "dtype: float64\n"
     ]
    },
    {
     "data": {
      "image/png": "[encoded data removed]",
      "text/plain": [
       "<Figure size 720x720 with 1 Axes>"
      ]
     },
     "metadata": {
      "needs_background": "light"
     },
     "output_type": "display_data"
    }
   ],
   "source": [
    "print('Top 20 features:')\n",
    "print('---------------------------------')\n",
    "feature_importances.nlargest(20).plot(kind='barh', figsize=(10,10))\n",
    "print(feature_importances.nlargest(20))"
   ]
  },
  {
   "cell_type": "code",
   "execution_count": 7,
   "metadata": {},
   "outputs": [
    {
     "name": "stdout",
     "output_type": "stream",
     "text": [
      "Least 20 features:\n",
      "---------------------------------\n",
      "FIN Flag Cnt         0.000355\n",
      "Idle Max             0.000914\n",
      "Idle Mean            0.000922\n",
      "Idle Min             0.001128\n",
      "PSH Flag Cnt         0.001480\n",
      "Bwd IAT Mean         0.001601\n",
      "Bwd IAT Max          0.001871\n",
      "URG Flag Cnt         0.002162\n",
      "Fwd Act Data Pkts    0.002316\n",
      "Bwd Pkt Len Mean     0.002549\n",
      "Bwd IAT Std          0.002740\n",
      "Bwd Pkt Len Max      0.006316\n",
      "Flow IAT Std         0.007174\n",
      "Bwd Pkts/s           0.008144\n",
      "Bwd IAT Tot          0.009646\n",
      "Bwd IAT Min          0.010378\n",
      "Bwd Seg Size Avg     0.010677\n",
      "Flow Duration        0.014848\n",
      "Flow Pkts/s          0.015603\n",
      "Bwd Header Len       0.016385\n",
      "dtype: float64\n"
     ]
    },
    {
     "data": {
      "image/png": "[encoded data removed]",
      "text/plain": [
       "<Figure size 720x720 with 1 Axes>"
      ]
     },
     "metadata": {
      "needs_background": "light"
     },
     "output_type": "display_data"
    }
   ],
   "source": [
    "print('Least 20 features:')\n",
    "print('---------------------------------')\n",
    "feature_importances.nsmallest(20).plot(kind='barh', figsize=(10,10))\n",
    "print(feature_importances.nsmallest(20))"
   ]
  },
  {
   "cell_type": "code",
   "execution_count": null,
   "metadata": {},
   "outputs": [],
   "source": []
  },
  {
   "cell_type": "code",
   "execution_count": null,
   "metadata": {},
   "outputs": [],
   "source": []
  }
 ],
 "metadata": {
  "kernelspec": {
   "display_name": "Python 3",
   "language": "python",
   "name": "python3"
  },
  "language_info": {
   "codemirror_mode": {
    "name": "ipython",
    "version": 3
   },
   "file_extension": ".py",
   "mimetype": "text/x-python",
   "name": "python",
   "nbconvert_exporter": "python",
   "pygments_lexer": "ipython3",
   "version": "3.7.6"
  }
 },
 "nbformat": 4,
 "nbformat_minor": 4
}
