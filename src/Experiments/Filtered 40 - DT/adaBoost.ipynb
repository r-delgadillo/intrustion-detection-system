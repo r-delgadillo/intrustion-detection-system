{
 "cells": [
  {
   "cell_type": "code",
   "execution_count": 8,
   "metadata": {},
   "outputs": [],
   "source": [
    "from sklearn import preprocessing\n",
    "from sklearn.externals import joblib\n",
    "import sklearn as skl\n",
    "from sklearn import tree\n",
    "from collections import defaultdict\n",
    "import pandas as pd\n",
    "import numpy as np\n",
    "import matplotlib.pyplot as plt\n",
    "import pickle\n",
    "from sklearn.metrics import accuracy_score\n",
    "from sklearn.metrics import classification_report \n",
    "%matplotlib inline\n",
    "import time\n",
    "import warnings\n",
    "from sklearn import model_selection\n",
    "# 5-class classification version\n",
    "from sklearn.tree import DecisionTreeClassifier\n",
    "from sklearn.ensemble import AdaBoostClassifier\n",
    "from sklearn.metrics import confusion_matrix, zero_one_loss, accuracy_score\n",
    "# Fitting Random Forest Classification to the Training set\n",
    "from sklearn.ensemble import RandomForestClassifier\n",
    "warnings.filterwarnings('ignore')\n",
    "pd.set_option('display.max_rows', 100)"
   ]
  },
  {
   "cell_type": "code",
   "execution_count": 9,
   "metadata": {},
   "outputs": [],
   "source": [
    "data_root_dir = r'D:\\CIC\\Train and Test\\Filtered 40 - DT'\n",
    "# Load all the training and testing data\n",
    "X_train = pd.read_pickle(f'{data_root_dir}\\X_train.pkl')\n",
    "X_test = pd.read_pickle(f'{data_root_dir}\\X_test.pkl')\n",
    "y_test = pd.read_pickle(f'{data_root_dir}\\y_test.pkl')\n",
    "y_train = pd.read_pickle(f'{data_root_dir}\\y_train.pkl')"
   ]
  },
  {
   "cell_type": "code",
   "execution_count": 10,
   "metadata": {},
   "outputs": [
    {
     "name": "stdout",
     "output_type": "stream",
     "text": [
      "Total time: 8670.8025 seconds \n",
      "\n"
     ]
    }
   ],
   "source": [
    "# Timer to see how long it takes to test the algorithm\n",
    "startTime = time.perf_counter()\n",
    "\n",
    "\n",
    "# 'n_estimators' is equal to the numebr of trees\n",
    "adaBoost1 = AdaBoostClassifier(n_estimators=100)\n",
    "adaBoost1.fit(X_train, y_train)\n",
    "\n",
    "predictions = adaBoost1.predict(X_test)\n",
    "confusion_matrix(y_test, predictions)\n",
    "\n",
    "# Print endTime - startTime to calculate how long it takes\n",
    "endTime = time.perf_counter()\n",
    "\n",
    "print(f\"Total time: {endTime - startTime:0.4f} seconds \\n\")"
   ]
  },
  {
   "cell_type": "code",
   "execution_count": 11,
   "metadata": {},
   "outputs": [],
   "source": [
    "results = confusion_matrix(y_test, predictions)\n",
    "error = zero_one_loss(y_test, predictions)\n",
    "score = accuracy_score(y_test, predictions) * 100\n",
    "report = classification_report(y_test, predictions)\n"
   ]
  },
  {
   "cell_type": "code",
   "execution_count": 12,
   "metadata": {},
   "outputs": [
    {
     "name": "stdout",
     "output_type": "stream",
     "text": [
      "Total time: 8670.8025 seconds \n",
      "\n",
      "AdaBoost Classifier Results\n",
      "=================================================\n",
      "Confusion Matrix:\n",
      "[3997098   19572]\n",
      "[ 50376 774127] \n",
      "\n",
      "Report :\n",
      "              precision    recall  f1-score   support\n",
      "\n",
      "           0       0.99      1.00      0.99   4016670\n",
      "           1       0.98      0.94      0.96    824503\n",
      "\n",
      "    accuracy                           0.99   4841173\n",
      "   macro avg       0.98      0.97      0.97   4841173\n",
      "weighted avg       0.99      0.99      0.99   4841173\n",
      "\n",
      "True Postive   : 3997098\n",
      "False Positive : 19572\n",
      "False Negative : 50376\n",
      "True Negative  : 774127\n",
      "Error Value    : 0.014448564428496957\n",
      "Accuracy_Score : 98.5551435571503\n",
      "=================================================\n"
     ]
    }
   ],
   "source": [
    "print(f\"Total time: {endTime - startTime:0.4f} seconds \\n\")\n",
    "print(\"AdaBoost Classifier Results\")\n",
    "print(\"=================================================\")\n",
    "print(f\"Confusion Matrix:\")\n",
    "print(f\"{results[0]}\")\n",
    "print(f\"{results[1]} \\n\")\n",
    "\n",
    "print(\"Report :\")\n",
    "print(report) \n",
    "\n",
    "print(f\"True Postive   : {results[0][0]}\")\n",
    "print(f\"False Positive : {results[0][1]}\")\n",
    "print(f\"False Negative : {results[1][0]}\")\n",
    "print(f\"True Negative  : {results[1][1]}\")\n",
    "print(f\"Error Value    : {error}\")\n",
    "print(f\"Accuracy_Score : {score}\")\n",
    "print(\"=================================================\")"
   ]
  },
  {
   "cell_type": "code",
   "execution_count": 13,
   "metadata": {},
   "outputs": [
    {
     "data": {
      "text/plain": [
       "(4841173, 40)"
      ]
     },
     "execution_count": 13,
     "metadata": {},
     "output_type": "execute_result"
    }
   ],
   "source": [
    "X_test.shape"
   ]
  },
  {
   "cell_type": "code",
   "execution_count": 14,
   "metadata": {},
   "outputs": [
    {
     "name": "stdout",
     "output_type": "stream",
     "text": [
      "Feature importances sorted:\n",
      "---------------------------------\n"
     ]
    },
    {
     "data": {
      "text/plain": [
       "Init Fwd Win Byts    0.28\n",
       "Fwd Pkt Len Max      0.08\n",
       "Flow IAT Min         0.08\n",
       "Dst Port             0.06\n",
       "Fwd Header Len       0.05\n",
       "Init Bwd Win Byts    0.05\n",
       "Flow IAT Mean        0.05\n",
       "Bwd Seg Size Avg     0.04\n",
       "Fwd IAT Tot          0.03\n",
       "Fwd IAT Min          0.03\n",
       "Bwd IAT Max          0.03\n",
       "Fwd IAT Max          0.02\n",
       "Fwd Pkt Len Mean     0.02\n",
       "Idle Mean            0.02\n",
       "TotLen Fwd Pkts      0.02\n",
       "Idle Max             0.01\n",
       "ACK Flag Cnt         0.01\n",
       "Bwd Pkts/s           0.01\n",
       "Fwd Seg Size Min     0.01\n",
       "Fwd Pkts/s           0.01\n",
       "Bwd Header Len       0.01\n",
       "Bwd IAT Std          0.01\n",
       "Flow IAT Max         0.01\n",
       "Bwd Pkt Len Max      0.01\n",
       "Bwd IAT Tot          0.01\n",
       "Fwd IAT Std          0.01\n",
       "Bwd Pkt Len Mean     0.01\n",
       "Flow Byts/s          0.01\n",
       "Fwd IAT Mean         0.01\n",
       "Flow IAT Std         0.00\n",
       "Fwd Act Data Pkts    0.00\n",
       "Flow Pkts/s          0.00\n",
       "Bwd IAT Min          0.00\n",
       "Subflow Fwd Pkts     0.00\n",
       "Flow Duration        0.00\n",
       "URG Flag Cnt         0.00\n",
       "PSH Flag Cnt         0.00\n",
       "FIN Flag Cnt         0.00\n",
       "Bwd IAT Mean         0.00\n",
       "Idle Min             0.00\n",
       "dtype: float64"
      ]
     },
     "execution_count": 14,
     "metadata": {},
     "output_type": "execute_result"
    }
   ],
   "source": [
    "feature_importances = pd.Series(adaBoost1.feature_importances_, index=X_test.columns)\n",
    "print('Feature importances sorted:')\n",
    "print('---------------------------------')\n",
    "feature_importances.nlargest(50)"
   ]
  },
  {
   "cell_type": "code",
   "execution_count": 15,
   "metadata": {},
   "outputs": [
    {
     "name": "stdout",
     "output_type": "stream",
     "text": [
      "Top 20 features:\n",
      "---------------------------------\n",
      "Init Fwd Win Byts    0.28\n",
      "Fwd Pkt Len Max      0.08\n",
      "Flow IAT Min         0.08\n",
      "Dst Port             0.06\n",
      "Flow IAT Mean        0.05\n",
      "Fwd Header Len       0.05\n",
      "Init Bwd Win Byts    0.05\n",
      "Bwd Seg Size Avg     0.04\n",
      "Fwd IAT Tot          0.03\n",
      "Fwd IAT Min          0.03\n",
      "Bwd IAT Max          0.03\n",
      "TotLen Fwd Pkts      0.02\n",
      "Fwd Pkt Len Mean     0.02\n",
      "Fwd IAT Max          0.02\n",
      "Idle Mean            0.02\n",
      "Bwd Pkt Len Max      0.01\n",
      "Bwd Pkt Len Mean     0.01\n",
      "Flow Byts/s          0.01\n",
      "Flow IAT Max         0.01\n",
      "Fwd IAT Mean         0.01\n",
      "dtype: float64\n"
     ]
    },
    {
     "data": {
      "image/png": "[encoded data removed]",
      "text/plain": [
       "<Figure size 720x720 with 1 Axes>"
      ]
     },
     "metadata": {
      "needs_background": "light"
     },
     "output_type": "display_data"
    }
   ],
   "source": [
    "print('Top 20 features:')\n",
    "print('---------------------------------')\n",
    "feature_importances.nlargest(20).plot(kind='barh', figsize=(10,10))\n",
    "print(feature_importances.nlargest(20))"
   ]
  },
  {
   "cell_type": "code",
   "execution_count": 16,
   "metadata": {},
   "outputs": [
    {
     "name": "stdout",
     "output_type": "stream",
     "text": [
      "Least 20 features:\n",
      "---------------------------------\n",
      "Flow Duration        0.00\n",
      "Flow Pkts/s          0.00\n",
      "Flow IAT Std         0.00\n",
      "Bwd IAT Mean         0.00\n",
      "Bwd IAT Min          0.00\n",
      "FIN Flag Cnt         0.00\n",
      "PSH Flag Cnt         0.00\n",
      "URG Flag Cnt         0.00\n",
      "Subflow Fwd Pkts     0.00\n",
      "Fwd Act Data Pkts    0.00\n",
      "Idle Min             0.00\n",
      "Bwd Pkt Len Max      0.01\n",
      "Bwd Pkt Len Mean     0.01\n",
      "Flow Byts/s          0.01\n",
      "Flow IAT Max         0.01\n",
      "Fwd IAT Mean         0.01\n",
      "Fwd IAT Std          0.01\n",
      "Bwd IAT Tot          0.01\n",
      "Bwd IAT Std          0.01\n",
      "Bwd Header Len       0.01\n",
      "dtype: float64\n"
     ]
    },
    {
     "data": {
      "image/png": "[encoded data removed]",
      "text/plain": [
       "<Figure size 720x720 with 1 Axes>"
      ]
     },
     "metadata": {
      "needs_background": "light"
     },
     "output_type": "display_data"
    }
   ],
   "source": [
    "print('Least 20 features:')\n",
    "print('---------------------------------')\n",
    "feature_importances.nsmallest(20).plot(kind='barh', figsize=(10,10))\n",
    "print(feature_importances.nsmallest(20))"
   ]
  },
  {
   "cell_type": "code",
   "execution_count": null,
   "metadata": {},
   "outputs": [],
   "source": []
  }
 ],
 "metadata": {
  "kernelspec": {
   "display_name": "Python 3",
   "language": "python",
   "name": "python3"
  },
  "language_info": {
   "codemirror_mode": {
    "name": "ipython",
    "version": 3
   },
   "file_extension": ".py",
   "mimetype": "text/x-python",
   "name": "python",
   "nbconvert_exporter": "python",
   "pygments_lexer": "ipython3",
   "version": "3.7.6"
  }
 },
 "nbformat": 4,
 "nbformat_minor": 4
}
