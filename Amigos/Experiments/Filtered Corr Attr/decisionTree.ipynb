{
 "cells": [
  {
   "cell_type": "code",
   "execution_count": 3,
   "metadata": {},
   "outputs": [],
   "source": [
    "from sklearn import preprocessing\n",
    "from sklearn.externals import joblib\n",
    "import sklearn as skl\n",
    "from sklearn import tree\n",
    "from collections import defaultdict\n",
    "import pandas as pd\n",
    "import numpy as np\n",
    "import matplotlib.pyplot as plt\n",
    "import pickle\n",
    "from sklearn.metrics import accuracy_score\n",
    "from sklearn.ensemble import ExtraTreesClassifier\n",
    "from sklearn.metrics import classification_report \n",
    "%matplotlib inline\n",
    "import time\n",
    "import warnings\n",
    "# 5-class classification version\n",
    "from sklearn.tree import DecisionTreeClassifier\n",
    "from sklearn.metrics import confusion_matrix, zero_one_loss, accuracy_score\n",
    "warnings.filterwarnings('ignore')\n",
    "pd.set_option('display.max_rows', 100)"
   ]
  },
  {
   "cell_type": "code",
   "execution_count": 4,
   "metadata": {},
   "outputs": [],
   "source": [
    "data_root_dir = r'D:\\CIC\\Train and Test\\Filtered Corr Attr'\n",
    "# Load all the training and testing data\n",
    "X_train = pd.read_pickle(f'{data_root_dir}\\X_train.pkl')\n",
    "X_test = pd.read_pickle(f'{data_root_dir}\\X_test.pkl')\n",
    "y_test = pd.read_pickle(f'{data_root_dir}\\y_test.pkl')\n",
    "y_train = pd.read_pickle(f'{data_root_dir}\\y_train.pkl')"
   ]
  },
  {
   "cell_type": "code",
   "execution_count": 5,
   "metadata": {},
   "outputs": [],
   "source": [
    "# Timer to see how long it takes to test the algorithm\n",
    "startTime = time.perf_counter()\n",
    "\n",
    "dt_classifier = DecisionTreeClassifier(random_state=10)\n",
    "dt_classifier.fit(X_train, y_train)\n",
    "\n",
    "y_pred_dt = dt_classifier.predict(X_test)\n",
    "\n",
    "dt_results = confusion_matrix(y_test, y_pred_dt)\n",
    "dt_error = zero_one_loss(y_test, y_pred_dt)\n",
    "dt_score = accuracy_score(y_test, y_pred_dt) * 100\n",
    "dt_report = classification_report(y_test, y_pred_dt)\n",
    "\n",
    "# Print endTime - startTime to calculate how long it takes\n",
    "endTime = time.perf_counter()"
   ]
  },
  {
   "cell_type": "code",
   "execution_count": 6,
   "metadata": {},
   "outputs": [
    {
     "name": "stdout",
     "output_type": "stream",
     "text": [
      "Total time: 1870.7250 seconds \n",
      "\n",
      "Decision Tree Classifier Results\n",
      "=================================================\n",
      "Confusion Matrix:\n",
      "[3987159   29511]\n",
      "[ 42410 782093] \n",
      "\n",
      "Report :\n",
      "              precision    recall  f1-score   support\n",
      "\n",
      "           0       0.99      0.99      0.99   4016670\n",
      "           1       0.96      0.95      0.96    824503\n",
      "\n",
      "    accuracy                           0.99   4841173\n",
      "   macro avg       0.98      0.97      0.97   4841173\n",
      "weighted avg       0.99      0.99      0.99   4841173\n",
      "\n",
      "True Postive   : 3987159\n",
      "False Positive : 29511\n",
      "False Negative : 42410\n",
      "True Negative  : 782093\n",
      "Error Value    : 0.014856110285668356\n",
      "Accuracy_Score : 98.51438897143316\n",
      "=================================================\n"
     ]
    }
   ],
   "source": [
    "print(f\"Total time: {endTime - startTime:0.4f} seconds \\n\")\n",
    "print(\"Decision Tree Classifier Results\")\n",
    "print(\"=================================================\")\n",
    "print(f\"Confusion Matrix:\")\n",
    "print(f\"{dt_results[0]}\")\n",
    "print(f\"{dt_results[1]} \\n\")\n",
    "\n",
    "print(\"Report :\")\n",
    "print(dt_report) \n",
    "\n",
    "print(f\"True Postive   : {dt_results[0][0]}\")\n",
    "print(f\"False Positive : {dt_results[0][1]}\")\n",
    "print(f\"False Negative : {dt_results[1][0]}\")\n",
    "print(f\"True Negative  : {dt_results[1][1]}\")\n",
    "print(f\"Error Value    : {dt_error}\")\n",
    "print(f\"Accuracy_Score : {dt_score}\")\n",
    "print(\"=================================================\")"
   ]
  },
  {
   "cell_type": "code",
   "execution_count": 7,
   "metadata": {},
   "outputs": [
    {
     "name": "stdout",
     "output_type": "stream",
     "text": [
      "Feature importances sorted:\n",
      "---------------------------------\n"
     ]
    },
    {
     "data": {
      "text/plain": [
       "Dst Port             0.299570\n",
       "TotLen Fwd Pkts      0.204303\n",
       "Fwd Seg Size Min     0.100592\n",
       "Flow Duration        0.088819\n",
       "Init Fwd Win Byts    0.066275\n",
       "Bwd Pkt Len Mean     0.059560\n",
       "Fwd IAT Tot          0.046250\n",
       "Fwd Pkts/s           0.036801\n",
       "Fwd IAT Std          0.028251\n",
       "Flow IAT Min         0.021889\n",
       "Fwd IAT Mean         0.004651\n",
       "Flow IAT Std         0.003384\n",
       "Flow IAT Mean        0.003305\n",
       "Fwd Header Len       0.002811\n",
       "Bwd Pkts/s           0.002692\n",
       "Flow IAT Max         0.002682\n",
       "Flow Byts/s          0.002401\n",
       "Bwd Header Len       0.002023\n",
       "Flow Pkts/s          0.001797\n",
       "URG Flag Cnt         0.001767\n",
       "Fwd IAT Min          0.001711\n",
       "Fwd IAT Max          0.001523\n",
       "Bwd IAT Min          0.001202\n",
       "Subflow Fwd Pkts     0.001162\n",
       "PSH Flag Cnt         0.001093\n",
       "Init Bwd Win Byts    0.001051\n",
       "Bwd IAT Std          0.000968\n",
       "Fwd Pkt Len Max      0.000891\n",
       "Bwd IAT Tot          0.000823\n",
       "Bwd IAT Max          0.000797\n",
       "Fwd Pkt Len Mean     0.000714\n",
       "Idle Min             0.000672\n",
       "Bwd IAT Mean         0.000610\n",
       "FIN Flag Cnt         0.000592\n",
       "ACK Flag Cnt         0.000584\n",
       "Bwd Pkt Len Max      0.000577\n",
       "Idle Mean            0.000542\n",
       "Active Min           0.000475\n",
       "Active Mean          0.000370\n",
       "Fwd Pkt Len Std      0.000368\n",
       "Active Max           0.000350\n",
       "Pkt Len Mean         0.000342\n",
       "Pkt Len Max          0.000337\n",
       "Down/Up Ratio        0.000317\n",
       "Pkt Len Std          0.000284\n",
       "Pkt Size Avg         0.000241\n",
       "Active Std           0.000222\n",
       "Pkt Len Var          0.000202\n",
       "TotLen Bwd Pkts      0.000178\n",
       "Fwd Seg Size Avg     0.000175\n",
       "dtype: float64"
      ]
     },
     "execution_count": 7,
     "metadata": {},
     "output_type": "execute_result"
    }
   ],
   "source": [
    "feature_importances = pd.Series(dt_classifier.feature_importances_, index=X_test.columns)\n",
    "print('Feature importances sorted:')\n",
    "print('---------------------------------')\n",
    "feature_importances.nlargest(50)"
   ]
  },
  {
   "cell_type": "code",
   "execution_count": 8,
   "metadata": {},
   "outputs": [
    {
     "name": "stdout",
     "output_type": "stream",
     "text": [
      "Top 20 features:\n",
      "---------------------------------\n",
      "Dst Port             0.299570\n",
      "TotLen Fwd Pkts      0.204303\n",
      "Fwd Seg Size Min     0.100592\n",
      "Flow Duration        0.088819\n",
      "Init Fwd Win Byts    0.066275\n",
      "Bwd Pkt Len Mean     0.059560\n",
      "Fwd IAT Tot          0.046250\n",
      "Fwd Pkts/s           0.036801\n",
      "Fwd IAT Std          0.028251\n",
      "Flow IAT Min         0.021889\n",
      "Fwd IAT Mean         0.004651\n",
      "Flow IAT Std         0.003384\n",
      "Flow IAT Mean        0.003305\n",
      "Fwd Header Len       0.002811\n",
      "Bwd Pkts/s           0.002692\n",
      "Flow IAT Max         0.002682\n",
      "Flow Byts/s          0.002401\n",
      "Bwd Header Len       0.002023\n",
      "Flow Pkts/s          0.001797\n",
      "URG Flag Cnt         0.001767\n",
      "dtype: float64\n"
     ]
    },
    {
     "data": {
      "image/png": "[encoded data removed]",
      "text/plain": [
       "<Figure size 720x720 with 1 Axes>"
      ]
     },
     "metadata": {
      "needs_background": "light"
     },
     "output_type": "display_data"
    }
   ],
   "source": [
    "print('Top 20 features:')\n",
    "print('---------------------------------')\n",
    "feature_importances.nlargest(20).plot(kind='barh', figsize=(10,10))\n",
    "print(feature_importances.nlargest(20))"
   ]
  },
  {
   "cell_type": "code",
   "execution_count": 9,
   "metadata": {},
   "outputs": [
    {
     "name": "stdout",
     "output_type": "stream",
     "text": [
      "Least 20 features:\n",
      "---------------------------------\n",
      "Fwd URG Flags        0.000000e+00\n",
      "Protocol             9.183629e-08\n",
      "SYN Flag Cnt         1.125782e-06\n",
      "Fwd PSH Flags        7.370292e-06\n",
      "Fwd Act Data Pkts    3.398321e-05\n",
      "Tot Fwd Pkts         3.879783e-05\n",
      "Fwd Pkt Len Min      4.393999e-05\n",
      "RST Flag Cnt         4.505837e-05\n",
      "Pkt Len Min          4.726101e-05\n",
      "ECE Flag Cnt         7.528176e-05\n",
      "Tot Bwd Pkts         9.506670e-05\n",
      "CWE Flag Count       1.311391e-04\n",
      "Bwd Pkt Len Min      1.433766e-04\n",
      "Subflow Bwd Byts     1.454702e-04\n",
      "Fwd Seg Size Avg     1.747411e-04\n",
      "TotLen Bwd Pkts      1.775321e-04\n",
      "Pkt Len Var          2.016148e-04\n",
      "Active Std           2.215156e-04\n",
      "Pkt Size Avg         2.408493e-04\n",
      "Pkt Len Std          2.840904e-04\n",
      "dtype: float64\n"
     ]
    },
    {
     "data": {
      "image/png": "[encoded data removed]",
      "text/plain": [
       "<Figure size 720x720 with 1 Axes>"
      ]
     },
     "metadata": {
      "needs_background": "light"
     },
     "output_type": "display_data"
    }
   ],
   "source": [
    "print('Least 20 features:')\n",
    "print('---------------------------------')\n",
    "feature_importances.nsmallest(20).plot(kind='barh', figsize=(10,10))\n",
    "print(feature_importances.nsmallest(20))"
   ]
  },
  {
   "cell_type": "code",
   "execution_count": 11,
   "metadata": {},
   "outputs": [],
   "source": [
    "model_file_path = r'D:\\CIC\\Train and Test\\Filtered Corr Attr\\decision_tree_model.sav'\n",
    "pickle.dump(dt_classifier, open(model_file_path, 'wb'))"
   ]
  },
  {
   "cell_type": "code",
   "execution_count": null,
   "metadata": {},
   "outputs": [],
   "source": []
  }
 ],
 "metadata": {
  "kernelspec": {
   "display_name": "Python 3",
   "language": "python",
   "name": "python3"
  },
  "language_info": {
   "codemirror_mode": {
    "name": "ipython",
    "version": 3
   },
   "file_extension": ".py",
   "mimetype": "text/x-python",
   "name": "python",
   "nbconvert_exporter": "python",
   "pygments_lexer": "ipython3",
   "version": "3.7.6"
  }
 },
 "nbformat": 4,
 "nbformat_minor": 4
}
