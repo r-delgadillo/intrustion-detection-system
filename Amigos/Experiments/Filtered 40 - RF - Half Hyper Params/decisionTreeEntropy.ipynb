{
 "cells": [
  {
   "cell_type": "code",
   "execution_count": 1,
   "metadata": {},
   "outputs": [
    {
     "name": "stderr",
     "output_type": "stream",
     "text": [
      "C:\\Users\\rodelga\\Anaconda3\\lib\\site-packages\\sklearn\\externals\\joblib\\__init__.py:15: FutureWarning: sklearn.externals.joblib is deprecated in 0.21 and will be removed in 0.23. Please import this functionality directly from joblib, which can be installed with: pip install joblib. If this warning is raised when loading pickled models, you may need to re-serialize those models with scikit-learn 0.21+.\n",
      "  warnings.warn(msg, category=FutureWarning)\n"
     ]
    }
   ],
   "source": [
    "from sklearn import preprocessing\n",
    "from sklearn.externals import joblib\n",
    "import sklearn as skl\n",
    "from sklearn import tree\n",
    "from collections import defaultdict\n",
    "import pandas as pd\n",
    "import numpy as np\n",
    "import matplotlib.pyplot as plt\n",
    "import pickle\n",
    "from sklearn.metrics import accuracy_score\n",
    "from sklearn.ensemble import ExtraTreesClassifier\n",
    "from sklearn.metrics import classification_report \n",
    "%matplotlib inline\n",
    "import time\n",
    "import warnings\n",
    "# 5-class classification version\n",
    "from sklearn.tree import DecisionTreeClassifier\n",
    "from sklearn.metrics import confusion_matrix, zero_one_loss, accuracy_score\n",
    "warnings.filterwarnings('ignore')\n",
    "pd.set_option('display.max_rows', 100)"
   ]
  },
  {
   "cell_type": "code",
   "execution_count": 2,
   "metadata": {},
   "outputs": [],
   "source": [
    "data_root_dir = r'D:\\CIC\\Train and Test\\Filter 40 - DT'\n",
    "# Load all the training and testing data\n",
    "X_train = pd.read_pickle(f'{data_root_dir}\\X_train.pkl')\n",
    "X_test = pd.read_pickle(f'{data_root_dir}\\X_test.pkl')\n",
    "y_test = pd.read_pickle(f'{data_root_dir}\\y_test.pkl')\n",
    "y_train = pd.read_pickle(f'{data_root_dir}\\y_train.pkl')"
   ]
  },
  {
   "cell_type": "code",
   "execution_count": 3,
   "metadata": {},
   "outputs": [],
   "source": [
    "# Timer to see how long it takes to test the algorithm\n",
    "startTime = time.perf_counter()\n",
    "\n",
    "dt_entropy = DecisionTreeClassifier(criterion = \"entropy\", random_state = 100, max_depth = 3, min_samples_leaf = 5) \n",
    "dt_entropy.fit(X_train, y_train)\n",
    "y_pred_entropy = dt_entropy.predict(X_test)\n",
    "\n",
    "entropy_results = confusion_matrix(y_test, y_pred_entropy)\n",
    "entropy_accuracy_score = accuracy_score(y_test, y_pred_entropy)\n",
    "entropy_error = zero_one_loss(y_test, y_pred_entropy)\n",
    "entropy_report = classification_report(y_test, y_pred_entropy)\n",
    "\n",
    "# Print endTime - startTime to calculate how long it takes\n",
    "endTime = time.perf_counter()"
   ]
  },
  {
   "cell_type": "code",
   "execution_count": 4,
   "metadata": {},
   "outputs": [
    {
     "name": "stdout",
     "output_type": "stream",
     "text": [
      "Total time: 92.6563 seconds \n",
      "\n",
      "Entropy Results\n",
      "=================================================\n",
      "Confusion Matrix:\n",
      "[3999672   16998]\n",
      "[648864 175639] \n",
      "\n",
      "Report :\n",
      "              precision    recall  f1-score   support\n",
      "\n",
      "           0       0.86      1.00      0.92   4016670\n",
      "           1       0.91      0.21      0.35    824503\n",
      "\n",
      "    accuracy                           0.86   4841173\n",
      "   macro avg       0.89      0.60      0.63   4841173\n",
      "weighted avg       0.87      0.86      0.82   4841173\n",
      "\n",
      "True Postive   : 3999672\n",
      "False Positive : 16998\n",
      "False Negative : 648864\n",
      "True Negative  : 175639\n",
      "Error Value    : 0.13754145947686647\n",
      "Accuracy_Score : 0.8624585405231335\n",
      "=================================================\n"
     ]
    }
   ],
   "source": [
    "print(f\"Total time: {endTime - startTime:0.4f} seconds \\n\")\n",
    "print(\"Entropy Results\")\n",
    "print(\"=================================================\")\n",
    "print(f\"Confusion Matrix:\")\n",
    "print(f\"{entropy_results[0]}\")\n",
    "print(f\"{entropy_results[1]} \\n\")\n",
    "\n",
    "print(\"Report :\")\n",
    "print(entropy_report) \n",
    "\n",
    "print(f\"True Postive   : {entropy_results[0][0]}\")\n",
    "print(f\"False Positive : {entropy_results[0][1]}\")\n",
    "print(f\"False Negative : {entropy_results[1][0]}\")\n",
    "print(f\"True Negative  : {entropy_results[1][1]}\")\n",
    "print(f\"Error Value    : {entropy_error}\")\n",
    "print(f\"Accuracy_Score : {entropy_accuracy_score}\")\n",
    "print(\"=================================================\")\n"
   ]
  },
  {
   "cell_type": "code",
   "execution_count": 5,
   "metadata": {},
   "outputs": [
    {
     "name": "stdout",
     "output_type": "stream",
     "text": [
      "Feature importances sorted:\n",
      "---------------------------------\n"
     ]
    },
    {
     "data": {
      "text/plain": [
       "Pkt Len Mean         0.348316\n",
       "TotLen Bwd Pkts      0.310547\n",
       "Bwd Pkt Len Std      0.166573\n",
       "Fwd Act Data Pkts    0.079172\n",
       "Idle Max             0.055138\n",
       "Tot Fwd Pkts         0.039393\n",
       "Idle Mean            0.000863\n",
       "Bwd Blk Rate Avg     0.000000\n",
       "Fwd Byts/b Avg       0.000000\n",
       "Fwd Pkts/b Avg       0.000000\n",
       "Fwd Blk Rate Avg     0.000000\n",
       "Bwd Byts/b Avg       0.000000\n",
       "Bwd Pkts/b Avg       0.000000\n",
       "Active Mean          0.000000\n",
       "Subflow Bwd Pkts     0.000000\n",
       "ECE Flag Cnt         0.000000\n",
       "Active Std           0.000000\n",
       "Active Max           0.000000\n",
       "Active Min           0.000000\n",
       "Idle Std             0.000000\n",
       "Bwd Seg Size Avg     0.000000\n",
       "Protocol             0.000000\n",
       "CWE Flag Count       0.000000\n",
       "Bwd IAT Min          0.000000\n",
       "Fwd Pkt Len Min      0.000000\n",
       "Fwd Pkt Len Std      0.000000\n",
       "Bwd Pkt Len Max      0.000000\n",
       "Bwd Pkt Len Min      0.000000\n",
       "Bwd Pkt Len Mean     0.000000\n",
       "Bwd IAT Max          0.000000\n",
       "Fwd PSH Flags        0.000000\n",
       "URG Flag Cnt         0.000000\n",
       "Bwd PSH Flags        0.000000\n",
       "Fwd URG Flags        0.000000\n",
       "Bwd URG Flags        0.000000\n",
       "Pkt Len Min          0.000000\n",
       "FIN Flag Cnt         0.000000\n",
       "Timestamp            0.000000\n",
       "SYN Flag Cnt         0.000000\n",
       "dtype: float64"
      ]
     },
     "execution_count": 5,
     "metadata": {},
     "output_type": "execute_result"
    }
   ],
   "source": [
    "feature_importances = pd.Series(dt_entropy.feature_importances_, index=X_test.columns)\n",
    "print('Feature importances sorted:')\n",
    "print('---------------------------------')\n",
    "feature_importances.nlargest(50)"
   ]
  },
  {
   "cell_type": "code",
   "execution_count": 6,
   "metadata": {},
   "outputs": [
    {
     "name": "stdout",
     "output_type": "stream",
     "text": [
      "Top 20 features:\n",
      "---------------------------------\n",
      "Pkt Len Mean         0.348316\n",
      "TotLen Bwd Pkts      0.310547\n",
      "Bwd Pkt Len Std      0.166573\n",
      "Fwd Act Data Pkts    0.079172\n",
      "Idle Max             0.055138\n",
      "Tot Fwd Pkts         0.039393\n",
      "Idle Mean            0.000863\n",
      "Protocol             0.000000\n",
      "Timestamp            0.000000\n",
      "Fwd Pkt Len Min      0.000000\n",
      "Fwd Pkt Len Std      0.000000\n",
      "Bwd Pkt Len Max      0.000000\n",
      "Bwd Pkt Len Min      0.000000\n",
      "Bwd Pkt Len Mean     0.000000\n",
      "Bwd IAT Max          0.000000\n",
      "Bwd IAT Min          0.000000\n",
      "Fwd PSH Flags        0.000000\n",
      "Bwd PSH Flags        0.000000\n",
      "Fwd URG Flags        0.000000\n",
      "Bwd URG Flags        0.000000\n",
      "dtype: float64\n"
     ]
    },
    {
     "data": {
      "image/png": "[encoded data removed]",
      "text/plain": [
       "<Figure size 720x720 with 1 Axes>"
      ]
     },
     "metadata": {
      "needs_background": "light"
     },
     "output_type": "display_data"
    }
   ],
   "source": [
    "print('Top 20 features:')\n",
    "print('---------------------------------')\n",
    "feature_importances.nlargest(20).plot(kind='barh', figsize=(10,10))\n",
    "print(feature_importances.nlargest(20))"
   ]
  },
  {
   "cell_type": "code",
   "execution_count": 7,
   "metadata": {},
   "outputs": [
    {
     "name": "stdout",
     "output_type": "stream",
     "text": [
      "Least 20 features:\n",
      "---------------------------------\n",
      "Protocol            0.0\n",
      "Timestamp           0.0\n",
      "Fwd Pkt Len Min     0.0\n",
      "Fwd Pkt Len Std     0.0\n",
      "Bwd Pkt Len Max     0.0\n",
      "Bwd Pkt Len Min     0.0\n",
      "Bwd Pkt Len Mean    0.0\n",
      "Bwd IAT Max         0.0\n",
      "Bwd IAT Min         0.0\n",
      "Fwd PSH Flags       0.0\n",
      "Bwd PSH Flags       0.0\n",
      "Fwd URG Flags       0.0\n",
      "Bwd URG Flags       0.0\n",
      "Pkt Len Min         0.0\n",
      "FIN Flag Cnt        0.0\n",
      "SYN Flag Cnt        0.0\n",
      "URG Flag Cnt        0.0\n",
      "CWE Flag Count      0.0\n",
      "ECE Flag Cnt        0.0\n",
      "Bwd Seg Size Avg    0.0\n",
      "dtype: float64\n"
     ]
    },
    {
     "data": {
      "image/png": "[encoded data removed]",
      "text/plain": [
       "<Figure size 720x720 with 1 Axes>"
      ]
     },
     "metadata": {
      "needs_background": "light"
     },
     "output_type": "display_data"
    }
   ],
   "source": [
    "print('Least 20 features:')\n",
    "print('---------------------------------')\n",
    "feature_importances.nsmallest(20).plot(kind='barh', figsize=(10,10))\n",
    "print(feature_importances.nsmallest(20))"
   ]
  },
  {
   "cell_type": "code",
   "execution_count": null,
   "metadata": {},
   "outputs": [],
   "source": []
  }
 ],
 "metadata": {
  "kernelspec": {
   "display_name": "Python 3",
   "language": "python",
   "name": "python3"
  },
  "language_info": {
   "codemirror_mode": {
    "name": "ipython",
    "version": 3
   },
   "file_extension": ".py",
   "mimetype": "text/x-python",
   "name": "python",
   "nbconvert_exporter": "python",
   "pygments_lexer": "ipython3",
   "version": "3.7.6"
  }
 },
 "nbformat": 4,
 "nbformat_minor": 4
}
