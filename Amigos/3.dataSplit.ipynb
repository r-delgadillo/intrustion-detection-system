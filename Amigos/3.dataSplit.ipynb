{
 "cells": [
  {
   "cell_type": "code",
   "execution_count": 1,
   "metadata": {},
   "outputs": [],
   "source": [
    "import os\n",
    "import glob\n",
    "from sklearn import preprocessing\n",
    "import sklearn as skl\n",
    "from collections import defaultdict\n",
    "import pandas as pd\n",
    "import numpy as np\n",
    "import matplotlib.pyplot as plt\n",
    "import pickle\n",
    "from sklearn.model_selection import train_test_split\n",
    "%matplotlib inline\n",
    "\n",
    "import warnings\n",
    "warnings.filterwarnings('ignore')"
   ]
  },
  {
   "cell_type": "code",
   "execution_count": 2,
   "metadata": {},
   "outputs": [],
   "source": [
    "# Read processed data\n",
    "df = pd.read_pickle(r'D:\\CIC\\Combined\\Filter Corr Attr\\cic_ids_2018_data.pkl')"
   ]
  },
  {
   "cell_type": "code",
   "execution_count": 3,
   "metadata": {},
   "outputs": [
    {
     "name": "stdout",
     "output_type": "stream",
     "text": [
      "X: (16137242, 64)\n",
      "y: (16137242,)\n",
      "Orginal: (16137242, 65)\n"
     ]
    }
   ],
   "source": [
    "# Here, you need to divide given columns into two types of variables dependent (or target variable) and independent variable (or feature variables)\n",
    "\n",
    "# Drop the target value from independent variables\n",
    "X = df.drop([\"Label\"], axis=1)\n",
    "\n",
    "# Get just the target values\n",
    "y = df[\"Label\"]\n",
    "\n",
    "print(f\"X: {X.shape}\")\n",
    "print(f\"y: {y.shape}\")\n",
    "print(f\"Orginal: {df.shape}\")"
   ]
  },
  {
   "cell_type": "code",
   "execution_count": 4,
   "metadata": {},
   "outputs": [],
   "source": [
    "# 70% training and 30% test\n",
    "X_train, X_test, y_train, y_test = train_test_split(X, y, test_size=0.3, random_state=1)"
   ]
  },
  {
   "cell_type": "code",
   "execution_count": 5,
   "metadata": {},
   "outputs": [
    {
     "name": "stdout",
     "output_type": "stream",
     "text": [
      "Train Size X = 11296069 | Test Size X = 4841173 | Test is 0.30000002478738313% of Train\n",
      "Train Size y = 11296069 | Test Size y = 4841173 | Test is 0.30000002478738313% of Train\n"
     ]
    }
   ],
   "source": [
    "print(f\"Train Size X = {len(X_train)} | Test Size X = {len(X_test)} | Test is {len(X_test)/len(df)}% of Train\")\n",
    "\n",
    "print(f\"Train Size y = {len(y_train)} | Test Size y = {len(y_test)} | Test is {len(y_test)/len(df)}% of Train\")"
   ]
  },
  {
   "cell_type": "code",
   "execution_count": 6,
   "metadata": {},
   "outputs": [
    {
     "name": "stdout",
     "output_type": "stream",
     "text": [
      "Training data benign vs malicious:\n",
      "0    9373579\n",
      "1    1922490\n",
      "Name: Label, dtype: int64\n"
     ]
    },
    {
     "data": {
      "text/plain": [
       "<matplotlib.axes._subplots.AxesSubplot at 0x1c6df0ed0c8>"
      ]
     },
     "execution_count": 6,
     "metadata": {},
     "output_type": "execute_result"
    },
    {
     "data": {
      "image/png": "[encoded data removed]",
      "text/plain": [
       "<Figure size 1440x720 with 1 Axes>"
      ]
     },
     "metadata": {
      "needs_background": "light"
     },
     "output_type": "display_data"
    }
   ],
   "source": [
    "# The following shows the number of Benign (0) vs Malicous (1) entries\n",
    "# This allows us to check if the data is uniformaly distributed\n",
    "print('Training data benign vs malicious:')\n",
    "print(y_train.value_counts())\n",
    "\n",
    "train_attack_types = y_train.value_counts()\n",
    "train_attack_types.plot(kind='barh', figsize=(20,10), fontsize=20)"
   ]
  },
  {
   "cell_type": "code",
   "execution_count": 7,
   "metadata": {},
   "outputs": [
    {
     "name": "stdout",
     "output_type": "stream",
     "text": [
      "Test data benign vs malicious:\n",
      "0    4016670\n",
      "1     824503\n",
      "Name: Label, dtype: int64\n"
     ]
    },
    {
     "data": {
      "text/plain": [
       "<matplotlib.axes._subplots.AxesSubplot at 0x1c6e0db6ac8>"
      ]
     },
     "execution_count": 7,
     "metadata": {},
     "output_type": "execute_result"
    },
    {
     "data": {
      "image/png": "[encoded data removed]",
      "text/plain": [
       "<Figure size 1440x720 with 1 Axes>"
      ]
     },
     "metadata": {
      "needs_background": "light"
     },
     "output_type": "display_data"
    }
   ],
   "source": [
    "# The following shows the number of Benign (0) vs Malicous (1) entries\n",
    "# This allows us to check if the data is uniformaly distributed\n",
    "print('Test data benign vs malicious:')\n",
    "print(y_test.value_counts())\n",
    "\n",
    "train_attack_types = y_test.value_counts()\n",
    "train_attack_types.plot(kind='barh', figsize=(20,10), fontsize=20)"
   ]
  },
  {
   "cell_type": "code",
   "execution_count": 8,
   "metadata": {},
   "outputs": [
    {
     "name": "stdout",
     "output_type": "stream",
     "text": [
      "<class 'pandas.core.frame.DataFrame'>\n",
      "Int64Index: 11296069 entries, 2794206 to 318661\n",
      "Data columns (total 64 columns):\n",
      " #   Column             Dtype  \n",
      "---  ------             -----  \n",
      " 0   Dst Port           float64\n",
      " 1   Protocol           float64\n",
      " 2   Flow Duration      float64\n",
      " 3   Tot Fwd Pkts       float64\n",
      " 4   Tot Bwd Pkts       float64\n",
      " 5   TotLen Fwd Pkts    float64\n",
      " 6   TotLen Bwd Pkts    float64\n",
      " 7   Fwd Pkt Len Max    float64\n",
      " 8   Fwd Pkt Len Min    float64\n",
      " 9   Fwd Pkt Len Mean   float64\n",
      " 10  Fwd Pkt Len Std    float64\n",
      " 11  Bwd Pkt Len Max    float64\n",
      " 12  Bwd Pkt Len Min    float64\n",
      " 13  Bwd Pkt Len Mean   float64\n",
      " 14  Flow Byts/s        float64\n",
      " 15  Flow Pkts/s        float64\n",
      " 16  Flow IAT Mean      float64\n",
      " 17  Flow IAT Std       float64\n",
      " 18  Flow IAT Max       float64\n",
      " 19  Flow IAT Min       float64\n",
      " 20  Fwd IAT Tot        float64\n",
      " 21  Fwd IAT Mean       float64\n",
      " 22  Fwd IAT Std        float64\n",
      " 23  Fwd IAT Max        float64\n",
      " 24  Fwd IAT Min        float64\n",
      " 25  Bwd IAT Tot        float64\n",
      " 26  Bwd IAT Mean       float64\n",
      " 27  Bwd IAT Std        float64\n",
      " 28  Bwd IAT Max        float64\n",
      " 29  Bwd IAT Min        float64\n",
      " 30  Fwd PSH Flags      float64\n",
      " 31  Fwd URG Flags      float64\n",
      " 32  Fwd Header Len     float64\n",
      " 33  Bwd Header Len     float64\n",
      " 34  Fwd Pkts/s         float64\n",
      " 35  Bwd Pkts/s         float64\n",
      " 36  Pkt Len Min        float64\n",
      " 37  Pkt Len Max        float64\n",
      " 38  Pkt Len Mean       float64\n",
      " 39  Pkt Len Std        float64\n",
      " 40  Pkt Len Var        float64\n",
      " 41  FIN Flag Cnt       float64\n",
      " 42  SYN Flag Cnt       float64\n",
      " 43  RST Flag Cnt       float64\n",
      " 44  PSH Flag Cnt       float64\n",
      " 45  ACK Flag Cnt       float64\n",
      " 46  URG Flag Cnt       float64\n",
      " 47  CWE Flag Count     float64\n",
      " 48  ECE Flag Cnt       float64\n",
      " 49  Down/Up Ratio      float64\n",
      " 50  Pkt Size Avg       float64\n",
      " 51  Fwd Seg Size Avg   float64\n",
      " 52  Subflow Fwd Pkts   float64\n",
      " 53  Subflow Bwd Byts   float64\n",
      " 54  Init Fwd Win Byts  float64\n",
      " 55  Init Bwd Win Byts  float64\n",
      " 56  Fwd Act Data Pkts  float64\n",
      " 57  Fwd Seg Size Min   float64\n",
      " 58  Active Mean        float64\n",
      " 59  Active Std         float64\n",
      " 60  Active Max         float64\n",
      " 61  Active Min         float64\n",
      " 62  Idle Mean          float64\n",
      " 63  Idle Min           float64\n",
      "dtypes: float64(64)\n",
      "memory usage: 5.5 GB\n"
     ]
    }
   ],
   "source": [
    "X_train.info()"
   ]
  },
  {
   "cell_type": "code",
   "execution_count": 9,
   "metadata": {},
   "outputs": [],
   "source": [
    "# Create test and train files containing raw data\n",
    "output_dir = r'D:\\CIC\\Train and Test\\Filter Corr Attr'\n",
    "X_train.to_pickle(f'{output_dir}\\X_train.pkl')\n",
    "X_test.to_pickle(f'{output_dir}\\X_test.pkl')\n",
    "\n",
    "# Create test and train files containing target values\n",
    "y_test.to_pickle(f'{output_dir}\\y_test.pkl')\n",
    "y_train.to_pickle(f'{output_dir}\\y_train.pkl')"
   ]
  },
  {
   "cell_type": "code",
   "execution_count": null,
   "metadata": {},
   "outputs": [],
   "source": []
  }
 ],
 "metadata": {
  "kernelspec": {
   "display_name": "Python 3",
   "language": "python",
   "name": "python3"
  },
  "language_info": {
   "codemirror_mode": {
    "name": "ipython",
    "version": 3
   },
   "file_extension": ".py",
   "mimetype": "text/x-python",
   "name": "python",
   "nbconvert_exporter": "python",
   "pygments_lexer": "ipython3",
   "version": "3.7.6"
  }
 },
 "nbformat": 4,
 "nbformat_minor": 4
}
